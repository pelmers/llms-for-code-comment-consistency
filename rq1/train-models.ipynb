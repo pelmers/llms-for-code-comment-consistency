{
 "cells": [
  {
   "cell_type": "code",
   "execution_count": 1,
   "metadata": {
    "execution": {
     "iopub.execute_input": "2022-12-10T22:00:38.776974Z",
     "iopub.status.busy": "2022-12-10T22:00:38.776497Z",
     "iopub.status.idle": "2022-12-10T22:00:38.795199Z",
     "shell.execute_reply": "2022-12-10T22:00:38.794079Z",
     "shell.execute_reply.started": "2022-12-10T22:00:38.776887Z"
    }
   },
   "outputs": [],
   "source": [
    "# Necesssary global constants\n",
    "# max length of code gen comes from config.n_positions\n",
    "MAX_LENGTH = 3000\n",
    "DISCARD_TOO_LONG = False\n",
    "BATCH_SIZE = 16\n",
    "N_EPOCHS = 1\n",
    "LEARNING_RATE = 1e-5\n",
    "REPO_URL = 'https://github.com/pelmers/llms-for-code-comment-consistency.git'\n",
    "USE_DEEPSPEED = False\n",
    "\n",
    "# 'codebert' or 'codegen'\n",
    "MODEL_TYPE = 'codegen'\n",
    "# model sizes are 350M, 2B, 6B, 16B (for codegen only)\n",
    "MODEL_SIZE = '350M'\n",
    "# If true, freeze the base model and only train the classifier head\n",
    "FREEZE_BASE_MODEL = False\n",
    "# If true, then we tune the positive threshold to maximize weighted f1 score, since in reality there are more negatives than positives\n",
    "# If false, then the positive threshold is always 0.5\n",
    "TUNE_THRESHOLD = True\n",
    "\n",
    "LOAD_MODEL = False\n",
    "LOAD_MODEL_F1_OR_PREC = 'f1'\n",
    "SAVE_CHECKPOINTS = False\n",
    "SAVE_BEST = True\n",
    "SAVE_CHECKPOINT_INTERVAL = 4\n",
    "USE_WANDB = True\n",
    "SAVE_ARTIFACTS_WANDB = True\n",
    "WANDB_KEY = '1a0427f55873ebb00be03054c1dc8e4fee78a637'\n",
    "\n",
    "# Folder of train.json, valid.json, test.json, relative to this file, can be in a .tar.gz that extracts to the full folder name\n",
    "DATA_FOLDER = 'data/deepjit_summary_data'\n",
    "# Support for an extras.json with extra training data we can shuffle into each epoch\n",
    "# Useful as data augmentation because of data imbalance\n",
    "USE_EXTRAS_FILE = False\n",
    "\n",
    "REQUIRE_CUDA = True\n",
    "# Set debug to true for local testing (avoid logging, smaller dataset, no checkpoints, etc.)\n",
    "DEBUG = True\n",
    "\n",
    "# After training on DATA_FOLDER, also evaluate on ADDITIONAL_TEST_FILES\n",
    "ADDITIONAL_TEST_FILES = []\n",
    "\n",
    "# If running as a script, allow os.environ to overwrite these options\n",
    "if __name__ == '__main__':\n",
    "    import os\n",
    "    for k, v in os.environ.items():\n",
    "        if k in globals():\n",
    "            # First check if v is a boolean or a number and convert to the right type\n",
    "            if v.lower() == 'true':\n",
    "                v = True\n",
    "            elif v.lower() == 'false':\n",
    "                v = False\n",
    "            elif v.isnumeric():\n",
    "                v = int(v)\n",
    "            # Or a float\n",
    "            elif '.' in v and v.replace('.', '').isnumeric():\n",
    "                v = float(v)\n",
    "            # Or a list\n",
    "            elif v.startswith('[') and v.endswith(']'):\n",
    "                v = v[1:-1].split(',')\n",
    "                v = [a.strip() for a in v]\n",
    "            globals()[k] = v\n",
    "\n",
    "RUN_LANGUAGE = 'java'\n",
    "RUN_LANGUAGE = 'go' if 'go' in DATA_FOLDER.lower() else RUN_LANGUAGE\n",
    "RUN_LANGUAGE = 'py' if 'python' in DATA_FOLDER.lower() else RUN_LANGUAGE\n",
    "RUN_LANGUAGE = 'js' if 'javascript' in DATA_FOLDER.lower() or 'js' in DATA_FOLDER.lower() else RUN_LANGUAGE\n",
    "\n",
    "\n",
    "if DEBUG:\n",
    "    BATCH_SIZE = 3\n",
    "    N_EPOCHS = 1\n",
    "    MODEL_SIZE = '350M'\n",
    "    USE_DEEPSPEED = False\n",
    "    REQUIRE_CUDA = False\n",
    "    FREEZE_BASE_MODEL = True\n",
    "\n",
    "    LOAD_MODEL = False\n",
    "    SAVE_CHECKPOINTS = False\n",
    "    SAVE_BEST = False\n",
    "    USE_WANDB = False\n",
    "\n",
    "RUN_NAME = f\"{MODEL_TYPE}_sz{MODEL_SIZE if MODEL_TYPE == 'codegen' else 'base' }\" + \\\n",
    "    f\"_bs{BATCH_SIZE}_lr{LEARNING_RATE}_len{MAX_LENGTH}_lang{RUN_LANGUAGE}\" + \\\n",
    "    (\"_disc\" if DISCARD_TOO_LONG else \"\") + \\\n",
    "    (\"_deepspd\" if USE_DEEPSPEED else \"\") + \\\n",
    "    (\"_freeze\" if FREEZE_BASE_MODEL else \"\") + \\\n",
    "    (\"_tune\" if TUNE_THRESHOLD else \"\") + \\\n",
    "    (\"_extras\" if USE_EXTRAS_FILE else \"\") + \\\n",
    "    (\"_debug\" if DEBUG else \"\")\n",
    "\n",
    "RUN_NOTES = f\"\"\"Notes:\n",
    "Dataset: {DATA_FOLDER}\n",
    "Max epochs: {N_EPOCHS}\n",
    "Load model: {LOAD_MODEL}\n",
    "\"\"\"\n",
    "\n",
    "import sys, subprocess, os\n",
    "\n",
    "# Define function x that given a command string, runs it with subprocess and streams the output\n",
    "def x(cmd):\n",
    "    return subprocess.run(cmd.split(\" \")).returncode\n",
    "\n",
    "ckpt_basename = f'ckpt_{RUN_NAME}'\n",
    "\n",
    "# The ratio of negative to positive examples in the training set before it was downsampled\n",
    "NEGATIVE_TO_POSITIVE_RATIO = 19"
   ]
  },
  {
   "cell_type": "code",
   "execution_count": 2,
   "metadata": {
    "execution": {
     "iopub.execute_input": "2022-12-10T22:00:38.820316Z",
     "iopub.status.busy": "2022-12-10T22:00:38.819028Z",
     "iopub.status.idle": "2022-12-10T22:00:45.473888Z",
     "shell.execute_reply": "2022-12-10T22:00:45.472780Z",
     "shell.execute_reply.started": "2022-12-10T22:00:38.820275Z"
    }
   },
   "outputs": [
    {
     "name": "stdout",
     "output_type": "stream",
     "text": [
      "Requirement already satisfied: scikit-learn in /home/ubuntu/miniconda3/lib/python3.10/site-packages (1.3.0)\n",
      "Requirement already satisfied: wandb in /home/ubuntu/miniconda3/lib/python3.10/site-packages (0.15.8)\n",
      "Collecting wandb\n",
      "  Downloading wandb-0.15.9-py3-none-any.whl (2.1 MB)\n",
      "     ━━━━━━━━━━━━━━━━━━━━━━━━━━━━━━━━━━━━━━━━ 2.1/2.1 MB 65.6 MB/s eta 0:00:00\n",
      "Requirement already satisfied: transformers in /home/ubuntu/miniconda3/lib/python3.10/site-packages (4.32.0)\n",
      "Collecting transformers\n",
      "  Downloading transformers-4.33.0-py3-none-any.whl (7.6 MB)\n",
      "     ━━━━━━━━━━━━━━━━━━━━━━━━━━━━━━━━━━━━━━━━ 7.6/7.6 MB 85.1 MB/s eta 0:00:00\n",
      "Requirement already satisfied: matplotlib in /home/ubuntu/miniconda3/lib/python3.10/site-packages (3.7.2)\n",
      "Requirement already satisfied: tokenizers in /home/ubuntu/miniconda3/lib/python3.10/site-packages (0.13.3)\n",
      "Requirement already satisfied: numpy>=1.17.3 in /home/ubuntu/miniconda3/lib/python3.10/site-packages (from scikit-learn) (1.23.5)\n",
      "Requirement already satisfied: joblib>=1.1.1 in /home/ubuntu/miniconda3/lib/python3.10/site-packages (from scikit-learn) (1.2.0)\n",
      "Requirement already satisfied: threadpoolctl>=2.0.0 in /home/ubuntu/miniconda3/lib/python3.10/site-packages (from scikit-learn) (3.1.0)\n",
      "Requirement already satisfied: scipy>=1.5.0 in /home/ubuntu/miniconda3/lib/python3.10/site-packages (from scikit-learn) (1.10.0)\n",
      "Requirement already satisfied: pathtools in /home/ubuntu/miniconda3/lib/python3.10/site-packages (from wandb) (0.1.2)\n",
      "Requirement already satisfied: setuptools in /home/ubuntu/miniconda3/lib/python3.10/site-packages (from wandb) (65.5.0)\n",
      "Requirement already satisfied: sentry-sdk>=1.0.0 in /home/ubuntu/miniconda3/lib/python3.10/site-packages (from wandb) (1.13.0)\n",
      "Requirement already satisfied: GitPython!=3.1.29,>=1.0.0 in /home/ubuntu/miniconda3/lib/python3.10/site-packages (from wandb) (3.1.30)\n",
      "Requirement already satisfied: requests<3,>=2.0.0 in /home/ubuntu/miniconda3/lib/python3.10/site-packages (from wandb) (2.28.1)\n",
      "Requirement already satisfied: PyYAML in /home/ubuntu/miniconda3/lib/python3.10/site-packages (from wandb) (5.4.1)\n",
      "Requirement already satisfied: appdirs>=1.4.3 in /home/ubuntu/miniconda3/lib/python3.10/site-packages (from wandb) (1.4.4)\n",
      "Requirement already satisfied: setproctitle in /home/ubuntu/miniconda3/lib/python3.10/site-packages (from wandb) (1.3.2)\n",
      "Requirement already satisfied: psutil>=5.0.0 in /home/ubuntu/miniconda3/lib/python3.10/site-packages (from wandb) (5.9.0)\n",
      "Requirement already satisfied: Click!=8.0.0,>=7.1 in /home/ubuntu/miniconda3/lib/python3.10/site-packages (from wandb) (8.1.3)\n",
      "Requirement already satisfied: protobuf!=4.21.0,<5,>=3.19.0 in /home/ubuntu/miniconda3/lib/python3.10/site-packages (from wandb) (3.20.3)\n",
      "Requirement already satisfied: docker-pycreds>=0.4.0 in /home/ubuntu/miniconda3/lib/python3.10/site-packages (from wandb) (0.4.0)\n",
      "Requirement already satisfied: safetensors>=0.3.1 in /home/ubuntu/miniconda3/lib/python3.10/site-packages (from transformers) (0.3.1)\n",
      "Requirement already satisfied: filelock in /home/ubuntu/miniconda3/lib/python3.10/site-packages (from transformers) (3.9.0)\n",
      "Requirement already satisfied: huggingface-hub<1.0,>=0.15.1 in /home/ubuntu/miniconda3/lib/python3.10/site-packages (from transformers) (0.16.4)\n",
      "Requirement already satisfied: tqdm>=4.27 in /home/ubuntu/miniconda3/lib/python3.10/site-packages (from transformers) (4.64.1)\n",
      "Requirement already satisfied: regex!=2019.12.17 in /home/ubuntu/miniconda3/lib/python3.10/site-packages (from transformers) (2022.10.31)\n",
      "Requirement already satisfied: packaging>=20.0 in /home/ubuntu/miniconda3/lib/python3.10/site-packages (from transformers) (22.0)\n",
      "Requirement already satisfied: fonttools>=4.22.0 in /home/ubuntu/miniconda3/lib/python3.10/site-packages (from matplotlib) (4.25.0)\n",
      "Requirement already satisfied: pillow>=6.2.0 in /home/ubuntu/miniconda3/lib/python3.10/site-packages (from matplotlib) (9.3.0)\n",
      "Requirement already satisfied: contourpy>=1.0.1 in /home/ubuntu/miniconda3/lib/python3.10/site-packages (from matplotlib) (1.0.5)\n",
      "Requirement already satisfied: cycler>=0.10 in /home/ubuntu/miniconda3/lib/python3.10/site-packages (from matplotlib) (0.11.0)\n",
      "Requirement already satisfied: kiwisolver>=1.0.1 in /home/ubuntu/miniconda3/lib/python3.10/site-packages (from matplotlib) (1.4.4)\n",
      "Requirement already satisfied: pyparsing<3.1,>=2.3.1 in /home/ubuntu/miniconda3/lib/python3.10/site-packages (from matplotlib) (3.0.9)\n",
      "Requirement already satisfied: python-dateutil>=2.7 in /home/ubuntu/miniconda3/lib/python3.10/site-packages (from matplotlib) (2.8.2)\n",
      "Requirement already satisfied: six>=1.4.0 in /home/ubuntu/miniconda3/lib/python3.10/site-packages (from docker-pycreds>=0.4.0->wandb) (1.16.0)\n",
      "Requirement already satisfied: gitdb<5,>=4.0.1 in /home/ubuntu/miniconda3/lib/python3.10/site-packages (from GitPython!=3.1.29,>=1.0.0->wandb) (4.0.10)\n",
      "Requirement already satisfied: typing-extensions>=3.7.4.3 in /home/ubuntu/miniconda3/lib/python3.10/site-packages (from huggingface-hub<1.0,>=0.15.1->transformers) (4.4.0)\n",
      "Requirement already satisfied: fsspec in /home/ubuntu/miniconda3/lib/python3.10/site-packages (from huggingface-hub<1.0,>=0.15.1->transformers) (2023.5.0)\n",
      "Requirement already satisfied: certifi>=2017.4.17 in /home/ubuntu/miniconda3/lib/python3.10/site-packages (from requests<3,>=2.0.0->wandb) (2022.12.7)\n",
      "Requirement already satisfied: urllib3<1.27,>=1.21.1 in /home/ubuntu/miniconda3/lib/python3.10/site-packages (from requests<3,>=2.0.0->wandb) (1.26.13)\n",
      "Requirement already satisfied: charset-normalizer<3,>=2 in /home/ubuntu/miniconda3/lib/python3.10/site-packages (from requests<3,>=2.0.0->wandb) (2.0.4)\n",
      "Requirement already satisfied: idna<4,>=2.5 in /home/ubuntu/miniconda3/lib/python3.10/site-packages (from requests<3,>=2.0.0->wandb) (3.4)\n",
      "Requirement already satisfied: smmap<6,>=3.0.1 in /home/ubuntu/miniconda3/lib/python3.10/site-packages (from gitdb<5,>=4.0.1->GitPython!=3.1.29,>=1.0.0->wandb) (5.0.0)\n",
      "Installing collected packages: wandb, transformers\n",
      "  Attempting uninstall: wandb\n",
      "    Found existing installation: wandb 0.15.8\n",
      "    Uninstalling wandb-0.15.8:\n",
      "      Successfully uninstalled wandb-0.15.8\n",
      "  Attempting uninstall: transformers\n",
      "    Found existing installation: transformers 4.32.0\n",
      "    Uninstalling transformers-4.32.0:\n",
      "      Successfully uninstalled transformers-4.32.0\n"
     ]
    },
    {
     "name": "stderr",
     "output_type": "stream",
     "text": [
      "ERROR: pip's dependency resolver does not currently take into account all the packages that are installed. This behaviour is the source of the following dependency conflicts.\n",
      "ecco 0.1.2 requires scikit-learn~=0.23, but you have scikit-learn 1.3.0 which is incompatible.\n"
     ]
    },
    {
     "name": "stdout",
     "output_type": "stream",
     "text": [
      "Successfully installed transformers-4.33.0 wandb-0.15.9\n"
     ]
    }
   ],
   "source": [
    "# Install pip packages\n",
    "assert x('pip install -U scikit-learn wandb transformers matplotlib tokenizers') == 0\n",
    "# Some colab bug requires matplotlib==3.1.3\n",
    "if os.getenv(\"COLAB_RELEASE_TAG\"):\n",
    "    assert x('pip install -U matplotlib==3.1.3') == 0\n",
    "if USE_DEEPSPEED:\n",
    "    assert x('pip install -U deepspeed') == 0"
   ]
  },
  {
   "cell_type": "code",
   "execution_count": 3,
   "metadata": {},
   "outputs": [],
   "source": [
    "import os\n",
    "\n",
    "# clone repo if this is just the notebook file (current folder is not 'rq1'), then cd to the cloned repo\n",
    "if not os.path.abspath(os.getcwd()).endswith('rq1'):\n",
    "    # If llms-for-code-comment-consistency exists, then go in and pull any updates\n",
    "    if os.path.exists('llms-for-code-comment-consistency'):\n",
    "        os.chdir('llms-for-code-comment-consistency')\n",
    "        # Update if already exists\n",
    "        try:\n",
    "            assert x('git pull origin main --ff-only') == 0\n",
    "        except AssertionError:\n",
    "            # old version of git doesn't support --ff-only\n",
    "            assert x('git pull origin main') == 0\n",
    "    else:\n",
    "        assert x(f'git clone {REPO_URL}') == 0\n",
    "        os.chdir('llms-for-code-comment-consistency')\n",
    "else:\n",
    "    # cd to parent of this folder for the root of the repo\n",
    "    os.chdir(os.path.dirname(os.getcwd()))\n",
    "\n",
    "sys.path.append('lib')"
   ]
  },
  {
   "cell_type": "code",
   "execution_count": 4,
   "metadata": {
    "execution": {
     "iopub.execute_input": "2022-12-10T22:00:45.476009Z",
     "iopub.status.busy": "2022-12-10T22:00:45.475713Z",
     "iopub.status.idle": "2022-12-10T22:00:53.062797Z",
     "shell.execute_reply": "2022-12-10T22:00:53.061218Z",
     "shell.execute_reply.started": "2022-12-10T22:00:45.475979Z"
    }
   },
   "outputs": [
    {
     "name": "stdout",
     "output_type": "stream",
     "text": [
      "CPU info:\n",
      "Architecture:                    aarch64\n",
      "CPU op-mode(s):                  32-bit, 64-bit\n",
      "Byte Order:                      Little Endian\n",
      "CPU(s):                          4\n",
      "On-line CPU(s) list:             0-3\n",
      "Vendor ID:                       ARM\n",
      "Model name:                      Neoverse-N1\n",
      "Model:                           1\n",
      "Thread(s) per core:              1\n",
      "Core(s) per cluster:             4\n",
      "Socket(s):                       -\n",
      "Cluster(s):                      1\n",
      "Stepping:                        r3p1\n",
      "BogoMIPS:                        50.00\n",
      "Flags:                           fp asimd evtstrm aes pmull sha1 sha2 crc32 atomics fphp asimdhp cpuid asimdrdm lrcpc dcpop asimddp ssbs\n",
      "NUMA node(s):                    1\n",
      "NUMA node0 CPU(s):               0-3\n",
      "Vulnerability Itlb multihit:     Not affected\n",
      "Vulnerability L1tf:              Not affected\n",
      "Vulnerability Mds:               Not affected\n",
      "Vulnerability Meltdown:          Not affected\n",
      "Vulnerability Mmio stale data:   Not affected\n",
      "Vulnerability Retbleed:          Not affected\n",
      "Vulnerability Spec store bypass: Mitigation; Speculative Store Bypass disabled via prctl\n",
      "Vulnerability Spectre v1:        Mitigation; __user pointer sanitization\n",
      "Vulnerability Spectre v2:        Mitigation; CSV2, BHB\n",
      "Vulnerability Srbds:             Not affected\n",
      "Vulnerability Tsx async abort:   Not affected\n"
     ]
    },
    {
     "name": "stderr",
     "output_type": "stream",
     "text": [
      "Failed to detect the name of this notebook, you can set it manually with the WANDB_NOTEBOOK_NAME environment variable to enable code saving.\n"
     ]
    }
   ],
   "source": [
    "# imports\n",
    "\n",
    "import torch\n",
    "import os\n",
    "import json\n",
    "import glob\n",
    "from time import time\n",
    "from torch.utils.data import Dataset, DataLoader, TensorDataset\n",
    "from torch.nn.utils.rnn import pad_sequence\n",
    "from tqdm import tqdm\n",
    "\n",
    "if torch.cuda.is_available():\n",
    "    x('nvidia-smi')\n",
    "elif REQUIRE_CUDA:\n",
    "    raise RuntimeError(\"CUDA not available\")\n",
    "\n",
    "os.environ[\"TOKENIZERS_PARALLELISM\"] = \"False\"\n",
    "\n",
    "# Print CPU info\n",
    "print(\"CPU info:\")\n",
    "x('lscpu')\n",
    "    \n",
    "# if we want to use deepspeed and only 1 gpu is available\n",
    "if USE_DEEPSPEED and torch.cuda.device_count() == 1:\n",
    "    os.environ[\"MASTER_ADDR\"] = \"127.0.0.1\"\n",
    "    os.environ[\"RANK\"] = \"0\"\n",
    "    os.environ[\"WORLD_SIZE\"] = \"1\"\n",
    "    os.environ[\"MASTER_PORT\"] = \"29500\"\n",
    "    os.environ[\"LOCAL_RANK\"] = \"0\"\n",
    "\n",
    "import wandb\n",
    "\n",
    "if USE_WANDB:\n",
    "    wandb.login(key=WANDB_KEY)\n",
    "    run = wandb.init(project=f\"{MODEL_TYPE}-model-master\")\n",
    "    if N_EPOCHS == 0:\n",
    "        run.name = RUN_NAME + \"_eval\"\n",
    "    else:\n",
    "        run.name = RUN_NAME\n",
    "    run.notes = RUN_NOTES\n",
    "else:\n",
    "    wandb.init(project=f\"{MODEL_TYPE}-model-master\", mode=\"disabled\")"
   ]
  },
  {
   "cell_type": "code",
   "execution_count": 6,
   "metadata": {
    "execution": {
     "iopub.execute_input": "2022-12-10T22:00:53.065358Z",
     "iopub.status.busy": "2022-12-10T22:00:53.064603Z",
     "iopub.status.idle": "2022-12-10T22:01:12.311497Z",
     "shell.execute_reply": "2022-12-10T22:01:12.310226Z",
     "shell.execute_reply.started": "2022-12-10T22:00:53.065304Z"
    }
   },
   "outputs": [
    {
     "name": "stderr",
     "output_type": "stream",
     "text": [
      "/home/ubuntu/miniconda3/lib/python3.10/site-packages/tqdm/auto.py:22: TqdmWarning: IProgress not found. Please update jupyter and ipywidgets. See https://ipywidgets.readthedocs.io/en/stable/user_install.html\n",
      "  from .autonotebook import tqdm as notebook_tqdm\n"
     ]
    },
    {
     "name": "stdout",
     "output_type": "stream",
     "text": [
      "[2023-09-05 12:22:10,886] [INFO] [real_accelerator.py:133:get_accelerator] Setting ds_accelerator to cuda (auto detect)\n",
      "Downloading CodeGen config files\n",
      "Creating model from config\n",
      "CodeGenBasedModel(\n",
      "  (codegen_tf): CodeGenModel(\n",
      "    (wte): Embedding(51200, 1024)\n",
      "    (drop): Dropout(p=0.0, inplace=False)\n",
      "    (h): ModuleList(\n",
      "      (0-19): 20 x CodeGenBlock(\n",
      "        (ln_1): LayerNorm((1024,), eps=1e-05, elementwise_affine=True)\n",
      "        (attn): CodeGenAttention(\n",
      "          (attn_dropout): Dropout(p=0.0, inplace=False)\n",
      "          (resid_dropout): Dropout(p=0.0, inplace=False)\n",
      "          (qkv_proj): Linear(in_features=1024, out_features=3072, bias=False)\n",
      "          (out_proj): Linear(in_features=1024, out_features=1024, bias=False)\n",
      "        )\n",
      "        (mlp): CodeGenMLP(\n",
      "          (fc_in): Linear(in_features=1024, out_features=4096, bias=True)\n",
      "          (fc_out): Linear(in_features=4096, out_features=1024, bias=True)\n",
      "          (act): NewGELUActivation()\n",
      "          (dropout): Dropout(p=0.0, inplace=False)\n",
      "        )\n",
      "      )\n",
      "    )\n",
      "    (ln_f): LayerNorm((1024,), eps=1e-05, elementwise_affine=True)\n",
      "  )\n",
      "  (classifier): Sequential(\n",
      "    (0): Linear(in_features=1024, out_features=1024, bias=True)\n",
      "    (1): GELU(approximate='none')\n",
      "    (2): Linear(in_features=1024, out_features=2, bias=True)\n",
      "    (3): Softmax(dim=1)\n",
      "  )\n",
      "  (loss_fn): CrossEntropyLoss()\n",
      "  (lm_head): Sequential(\n",
      "    (0): Linear(in_features=1024, out_features=1024, bias=True)\n",
      "    (1): GELU(approximate='none')\n",
      "    (2): Linear(in_features=1024, out_features=2, bias=True)\n",
      "  )\n",
      ")\n"
     ]
    }
   ],
   "source": [
    "# Define model class\n",
    "from models import get_model\n",
    "\n",
    "my_model, tokenizer, config = get_model(MODEL_TYPE, MODEL_SIZE, freeze_base=FREEZE_BASE_MODEL)\n",
    "print(my_model)"
   ]
  },
  {
   "cell_type": "code",
   "execution_count": 5,
   "metadata": {
    "execution": {
     "iopub.execute_input": "2022-12-10T22:01:12.951360Z",
     "iopub.status.busy": "2022-12-10T22:01:12.950930Z",
     "iopub.status.idle": "2022-12-10T22:01:39.583505Z",
     "shell.execute_reply": "2022-12-10T22:01:39.582072Z",
     "shell.execute_reply.started": "2022-12-10T22:01:12.951360Z"
    }
   },
   "outputs": [
    {
     "ename": "NameError",
     "evalue": "name 'tokenizer' is not defined",
     "output_type": "error",
     "traceback": [
      "\u001b[0;31m---------------------------------------------------------------------------\u001b[0m",
      "\u001b[0;31mNameError\u001b[0m                                 Traceback (most recent call last)",
      "Cell \u001b[0;32mIn[5], line 3\u001b[0m\n\u001b[1;32m      1\u001b[0m \u001b[39mfrom\u001b[39;00m \u001b[39mdata\u001b[39;00m \u001b[39mimport\u001b[39;00m dataset_from_file, get_collate_fn\n\u001b[0;32m----> 3\u001b[0m collate_fn \u001b[39m=\u001b[39m get_collate_fn(tokenizer)\n\u001b[1;32m      5\u001b[0m \u001b[39mdef\u001b[39;00m \u001b[39mensure_data_folder\u001b[39m(folder):\n\u001b[1;32m      6\u001b[0m     \u001b[39m# If the data folder does not exist, extract it from the .tar.gz file\u001b[39;00m\n\u001b[1;32m      7\u001b[0m     \u001b[39mif\u001b[39;00m \u001b[39mnot\u001b[39;00m os\u001b[39m.\u001b[39mpath\u001b[39m.\u001b[39mexists(folder):\n",
      "\u001b[0;31mNameError\u001b[0m: name 'tokenizer' is not defined"
     ]
    }
   ],
   "source": [
    "from data import dataset_from_file, get_collate_fn\n",
    "\n",
    "collate_fn = get_collate_fn(tokenizer)\n",
    "\n",
    "def ensure_data_folder(folder):\n",
    "    # If the data folder does not exist, extract it from the .tar.gz file\n",
    "    if not os.path.exists(folder):\n",
    "        print('Extracting data...')\n",
    "        if not os.path.exists(f'{folder}.tar.gz'):\n",
    "            print('Downloading data from server...')\n",
    "            assert x(f'wget -O {folder}.tar.gz https://file2.pelmers.com/{folder}.tar.gz') == 0\n",
    "        assert x(f'tar -xzf {folder}.tar.gz -C data') == 0\n",
    "\n",
    "ensure_data_folder(DATA_FOLDER)\n",
    "\n",
    "train_raw, train_dataset = dataset_from_file('{}/train.json'.format(DATA_FOLDER), MODEL_TYPE, tokenizer, MAX_LENGTH)\n",
    "train_dataloader = DataLoader(train_dataset, batch_size=BATCH_SIZE, shuffle=True, collate_fn=collate_fn)\n",
    "if USE_EXTRAS_FILE:\n",
    "    extras_raw, extras_dataset = dataset_from_file('{}/extras.json'.format(DATA_FOLDER), MODEL_TYPE, tokenizer, MAX_LENGTH)\n",
    "    extras_dataloader = DataLoader(extras_dataset, batch_size=BATCH_SIZE, shuffle=True, collate_fn=collate_fn)\n",
    "\n",
    "# TODO: use valid\n",
    "val_raw, val_dataset = dataset_from_file('{}/valid.json'.format(DATA_FOLDER), MODEL_TYPE, tokenizer, MAX_LENGTH)\n",
    "val_dataloader = DataLoader(val_dataset, batch_size=BATCH_SIZE, shuffle=False, collate_fn=collate_fn)\n",
    "\n",
    "test_raw, test_dataset = dataset_from_file('{}/test.json'.format(DATA_FOLDER), MODEL_TYPE, tokenizer, MAX_LENGTH)\n",
    "test_dataloader = DataLoader(test_dataset, batch_size=BATCH_SIZE, shuffle=False, collate_fn=collate_fn)"
   ]
  },
  {
   "cell_type": "code",
   "execution_count": 7,
   "metadata": {
    "execution": {
     "iopub.execute_input": "2022-12-10T22:01:39.588260Z",
     "iopub.status.busy": "2022-12-10T22:01:39.587955Z",
     "iopub.status.idle": "2022-12-10T22:01:39.778175Z",
     "shell.execute_reply": "2022-12-10T22:01:39.776261Z",
     "shell.execute_reply.started": "2022-12-10T22:01:39.588232Z"
    }
   },
   "outputs": [
    {
     "name": "stdout",
     "output_type": "stream",
     "text": [
      "Total number of parameters: 125237762\n"
     ]
    }
   ],
   "source": [
    "# Model instantiation\n",
    "\n",
    "import torch.nn as nn\n",
    "import numpy as np\n",
    "\n",
    "x('mkdir -p checkpoints')\n",
    "\n",
    "use_cuda = torch.cuda.is_available() and not USE_DEEPSPEED\n",
    "\n",
    "if use_cuda:\n",
    "    my_model.cuda()\n",
    "    if torch.cuda.device_count() > 1:\n",
    "        my_model = nn.DataParallel(my_model)\n",
    "\n",
    "optimizer = torch.optim.Adam(my_model.parameters(), lr=LEARNING_RATE)\n",
    "start_epoch = 0\n",
    "\n",
    "if LOAD_MODEL:\n",
    "    # Find the latest checkpoint\n",
    "    checkpoints = glob.glob('checkpoints/*.pt')\n",
    "    checkpoints.sort()\n",
    "    checkpoints = [ckpt for ckpt in checkpoints if ckpt_basename in ckpt if LOAD_MODEL_F1_OR_PREC in ckpt]\n",
    "    if len(checkpoints) > 0:\n",
    "        print('Loading model from {}'.format(checkpoints[-1]))\n",
    "        prev_state = torch.load(checkpoints[-1])\n",
    "        my_model.load_state_dict(prev_state['model_state_dict'])\n",
    "        optimizer.load_state_dict(prev_state['optimizer_state_dict'])\n",
    "        start_epoch = prev_state['epoch']\n",
    "        print('Loaded model from epoch {}, file {}'.format(start_epoch, checkpoints[-1]))\n",
    "    else:\n",
    "        print('No checkpoints found matching {}'.format(ckpt_basename))\n",
    "        raise FileNotFoundError\n",
    "\n",
    "# Print the number of parameters in the model\n",
    "total_params = sum(p.numel() for p in my_model.parameters())\n",
    "print('Total number of parameters: {}'.format(total_params))"
   ]
  },
  {
   "cell_type": "code",
   "execution_count": 8,
   "metadata": {
    "execution": {
     "iopub.execute_input": "2022-12-10T22:01:39.787106Z",
     "iopub.status.busy": "2022-12-10T22:01:39.786565Z",
     "iopub.status.idle": "2022-12-10T22:01:40.042853Z",
     "shell.execute_reply": "2022-12-10T22:01:40.041922Z",
     "shell.execute_reply.started": "2022-12-10T22:01:39.787021Z"
    }
   },
   "outputs": [],
   "source": [
    "# Define evaluation function\n",
    "\n",
    "import sklearn.metrics\n",
    "\n",
    "def compute_model_metrics(model, dataloader, language=RUN_LANGUAGE, positive_threshold=None):\n",
    "    '''\n",
    "    Return a dictionary representing the metrics for the model on the given dataset.\n",
    "    '''\n",
    "    model.eval()\n",
    "    probs = []\n",
    "    truths = []\n",
    "    loss = 0\n",
    "    for batch in tqdm(dataloader):\n",
    "        input_ids, attention_mask, labels, _ = batch\n",
    "        if torch.cuda.is_available():\n",
    "            input_ids = input_ids.cuda()\n",
    "            attention_mask = attention_mask.cuda()\n",
    "            labels = labels.cuda()\n",
    "        with torch.no_grad():\n",
    "            prob, loss, _ = model(input_ids, attention_mask, labels)\n",
    "            loss += loss.item()\n",
    "            probs.append(prob.cpu().numpy())\n",
    "            truths.append(labels.cpu().numpy())\n",
    "    print()\n",
    "    probs = np.concatenate(probs)\n",
    "    truths = np.concatenate(truths)\n",
    "    loss /= len(dataloader)\n",
    "    sample_weights = np.ones(len(truths))\n",
    "    # make the sample_weights array the same size as the number of samples in the dataset, with 1 for positive and weight for negative\n",
    "    sample_weights[truths == 0] = NEGATIVE_TO_POSITIVE_RATIO\n",
    "    predictions_05 = (probs[:, 1] > 0.5).astype(int)\n",
    "    if not TUNE_THRESHOLD:\n",
    "        positive_threshold = 0.5\n",
    "    if positive_threshold is None:\n",
    "        best_weighted_f1 = -1\n",
    "        best_predictions = None\n",
    "        for t in np.arange(0, 1, 0.0005):\n",
    "            # t is the threshold for positive classification, so 1-t is the threshold for negative classification\n",
    "            predictions = (probs[:, 1] > t).astype(int)\n",
    "            weighted_f1 = sklearn.metrics.f1_score(truths, predictions, sample_weight=sample_weights)\n",
    "            if weighted_f1 > best_weighted_f1:\n",
    "                best_weighted_f1 = weighted_f1\n",
    "                best_predictions = predictions\n",
    "                positive_threshold = t\n",
    "    else:\n",
    "        best_predictions = (probs[:, 1] > positive_threshold).astype(int)\n",
    "        best_weighted_f1 = sklearn.metrics.f1_score(truths, best_predictions, sample_weight=sample_weights)\n",
    "    acc = sklearn.metrics.accuracy_score(truths, best_predictions)\n",
    "    acc_05 = sklearn.metrics.accuracy_score(truths, predictions_05)\n",
    "    f1 = sklearn.metrics.f1_score(truths, best_predictions)\n",
    "    f1_05 = sklearn.metrics.f1_score(truths, predictions_05)\n",
    "    precision = sklearn.metrics.precision_score(truths, best_predictions)\n",
    "    recall = sklearn.metrics.recall_score(truths, best_predictions)\n",
    "    confusion = sklearn.metrics.confusion_matrix(truths, best_predictions)\n",
    "    metrics = {\n",
    "        'acc': acc,\n",
    "        'acc_05': acc_05,\n",
    "        'f1': f1,\n",
    "        'f1_05': f1_05,\n",
    "        'weighted_f1': best_weighted_f1,\n",
    "        'precision': precision,\n",
    "        'recall': recall,\n",
    "        'loss': loss,\n",
    "        'confusion': confusion,\n",
    "        'probs': probs,\n",
    "        'labels': truths,\n",
    "        'predictions': best_predictions,\n",
    "        'positive_threshold': positive_threshold\n",
    "    }\n",
    "    if DEBUG:\n",
    "        from pprint import pprint\n",
    "        print('Metrics:')\n",
    "        pprint(metrics)\n",
    "    return metrics\n",
    "\n",
    "METRICS_KEYS = ['acc', 'acc_05', 'f1', 'f1_05', 'precision', 'recall', 'loss', 'weighted_f1', 'positive_threshold']"
   ]
  },
  {
   "cell_type": "code",
   "execution_count": 9,
   "metadata": {
    "execution": {
     "iopub.execute_input": "2022-12-10T22:01:40.047115Z",
     "iopub.status.busy": "2022-12-10T22:01:40.046786Z",
     "iopub.status.idle": "2022-12-10T22:02:09.954448Z",
     "shell.execute_reply": "2022-12-10T22:02:09.952875Z",
     "shell.execute_reply.started": "2022-12-10T22:01:40.047088Z"
    }
   },
   "outputs": [],
   "source": [
    "DEEPSPEED_CONFIG = \\\n",
    "{\n",
    "    'fp16': {'enabled': True, 'loss_scale': 0, 'loss_scale_window': 1000, 'initial_scale_power': 12, 'hysteresis': 2, 'min_loss_scale': 1},\n",
    "    'optimizer': {'type': 'AdamW', 'params': {'lr': LEARNING_RATE, 'betas': [0.9, 0.99], 'eps': 1e-08, 'weight_decay': 1e-7}},\n",
    "    'scheduler': {'type': 'WarmupLR', 'params': {'warmup_min_lr': 0, 'warmup_max_lr': LEARNING_RATE, 'warmup_num_steps': 10}},\n",
    "    'zero_optimization': {\n",
    "        'stage': 3,\n",
    "        'offload_optimizer': {'device': 'cpu', 'pin_memory': True},\n",
    "        'offload_param': {'device': 'cpu', 'pin_memory': True},\n",
    "        'overlap_comm': True,\n",
    "        'contiguous_gradients': True,\n",
    "    },\n",
    "    'allgather_partitions': True,\n",
    "    'overlap_comm': True,\n",
    "    'contiguous_gradients': True,\n",
    "    'train_batch_size': BATCH_SIZE,\n",
    "    'gradient_accumulation_steps': BATCH_SIZE,\n",
    "    'steps_per_print': float('inf'),\n",
    "    'wall_clock_breakdown': False,\n",
    "}\n",
    "\n",
    "torch.cuda.empty_cache()\n",
    "if USE_DEEPSPEED:\n",
    "    import deepspeed\n",
    "    deepspeed.runtime.utils.see_memory_usage('before model load', force=True)\n",
    "    my_model_parameters = list(filter(lambda p: p.requires_grad, my_model.parameters()))\n",
    "    model_engine, optimizer, _, _ = deepspeed.initialize(config=DEEPSPEED_CONFIG, model=my_model, model_parameters=my_model_parameters)\n",
    "    torch.cuda.empty_cache() \n",
    "    deepspeed.runtime.utils.see_memory_usage('model loaded', force=True)\n",
    "    # Turn off annoying print in timer\n",
    "    old_stop_func = model_engine.tput_timer.stop\n",
    "    def new_stop(*args, **kwargs):\n",
    "        kwargs['report_speed'] = False\n",
    "        old_stop_func(*args, **kwargs)\n",
    "    model_engine.tput_timer.stop = new_stop"
   ]
  },
  {
   "cell_type": "code",
   "execution_count": 13,
   "metadata": {
    "execution": {
     "iopub.execute_input": "2022-12-10T22:02:09.959953Z",
     "iopub.status.busy": "2022-12-10T22:02:09.959503Z"
    }
   },
   "outputs": [
    {
     "name": "stdout",
     "output_type": "stream",
     "text": [
      "Epoch 1 / 1\n",
      "Concatenated dataset with 237179 examples\n"
     ]
    },
    {
     "name": "stderr",
     "output_type": "stream",
     "text": [
      "100%|████████████████| 34/34 [00:35<00:00,  1.04s/it, [Loss: 0.396441787481308]]  \n"
     ]
    },
    {
     "name": "stdout",
     "output_type": "stream",
     "text": [
      "\n",
      "Training loss: 0.5209985226392746, accuracy: 0.9901960790157318\n"
     ]
    },
    {
     "name": "stderr",
     "output_type": "stream",
     "text": [
      " 49%|████▊     | 357/734 [04:51<05:07,  1.23it/s]\n"
     ]
    },
    {
     "ename": "KeyboardInterrupt",
     "evalue": "",
     "output_type": "error",
     "traceback": [
      "\u001b[0;31m---------------------------------------------------------------------------\u001b[0m",
      "\u001b[0;31mKeyboardInterrupt\u001b[0m                         Traceback (most recent call last)",
      "Cell \u001b[0;32mIn[13], line 68\u001b[0m\n\u001b[1;32m     66\u001b[0m \u001b[39mprint\u001b[39m(\u001b[39mf\u001b[39m\u001b[39m'\u001b[39m\u001b[39mTraining loss: \u001b[39m\u001b[39m{\u001b[39;00m\u001b[39msum\u001b[39m(epoch_loss) \u001b[39m/\u001b[39m \u001b[39mlen\u001b[39m(epoch_loss)\u001b[39m}\u001b[39;00m\u001b[39m, accuracy: \u001b[39m\u001b[39m{\u001b[39;00m\u001b[39msum\u001b[39m(epoch_acc) \u001b[39m/\u001b[39m \u001b[39mlen\u001b[39m(epoch_acc)\u001b[39m}\u001b[39;00m\u001b[39m'\u001b[39m)\n\u001b[1;32m     67\u001b[0m \u001b[39m# Validate the model\u001b[39;00m\n\u001b[0;32m---> 68\u001b[0m metrics \u001b[39m=\u001b[39m compute_model_metrics(my_model, val_dataloader)\n\u001b[1;32m     69\u001b[0m \u001b[39mif\u001b[39;00m USE_WANDB:\n\u001b[1;32m     70\u001b[0m     wandb\u001b[39m.\u001b[39mlog({\u001b[39m'\u001b[39m\u001b[39mval_\u001b[39m\u001b[39m'\u001b[39m \u001b[39m+\u001b[39m k: metrics[k] \u001b[39mfor\u001b[39;00m k \u001b[39min\u001b[39;00m METRICS_KEYS})\n",
      "Cell \u001b[0;32mIn[8], line 20\u001b[0m, in \u001b[0;36mcompute_model_metrics\u001b[0;34m(model, dataloader, language, positive_threshold)\u001b[0m\n\u001b[1;32m     18\u001b[0m     labels \u001b[39m=\u001b[39m labels\u001b[39m.\u001b[39mcuda()\n\u001b[1;32m     19\u001b[0m \u001b[39mwith\u001b[39;00m torch\u001b[39m.\u001b[39mno_grad():\n\u001b[0;32m---> 20\u001b[0m     prob, loss, _ \u001b[39m=\u001b[39m model(input_ids, attention_mask, labels)\n\u001b[1;32m     21\u001b[0m     loss \u001b[39m+\u001b[39m\u001b[39m=\u001b[39m loss\u001b[39m.\u001b[39mitem()\n\u001b[1;32m     22\u001b[0m     probs\u001b[39m.\u001b[39mappend(prob\u001b[39m.\u001b[39mcpu()\u001b[39m.\u001b[39mnumpy())\n",
      "File \u001b[0;32m~/miniconda3/lib/python3.10/site-packages/torch/nn/modules/module.py:1130\u001b[0m, in \u001b[0;36mModule._call_impl\u001b[0;34m(self, *input, **kwargs)\u001b[0m\n\u001b[1;32m   1126\u001b[0m \u001b[39m# If we don't have any hooks, we want to skip the rest of the logic in\u001b[39;00m\n\u001b[1;32m   1127\u001b[0m \u001b[39m# this function, and just call forward.\u001b[39;00m\n\u001b[1;32m   1128\u001b[0m \u001b[39mif\u001b[39;00m \u001b[39mnot\u001b[39;00m (\u001b[39mself\u001b[39m\u001b[39m.\u001b[39m_backward_hooks \u001b[39mor\u001b[39;00m \u001b[39mself\u001b[39m\u001b[39m.\u001b[39m_forward_hooks \u001b[39mor\u001b[39;00m \u001b[39mself\u001b[39m\u001b[39m.\u001b[39m_forward_pre_hooks \u001b[39mor\u001b[39;00m _global_backward_hooks\n\u001b[1;32m   1129\u001b[0m         \u001b[39mor\u001b[39;00m _global_forward_hooks \u001b[39mor\u001b[39;00m _global_forward_pre_hooks):\n\u001b[0;32m-> 1130\u001b[0m     \u001b[39mreturn\u001b[39;00m forward_call(\u001b[39m*\u001b[39;49m\u001b[39minput\u001b[39;49m, \u001b[39m*\u001b[39;49m\u001b[39m*\u001b[39;49mkwargs)\n\u001b[1;32m   1131\u001b[0m \u001b[39m# Do not call functions when jit is used\u001b[39;00m\n\u001b[1;32m   1132\u001b[0m full_backward_hooks, non_full_backward_hooks \u001b[39m=\u001b[39m [], []\n",
      "File \u001b[0;32m~/thesis/master-project/notebooks/lib/models.py:56\u001b[0m, in \u001b[0;36mget_model.<locals>.CodeBERTBasedModel.forward\u001b[0;34m(self, input_ids, attention_mask, labels, **kwargs)\u001b[0m\n\u001b[1;32m     55\u001b[0m \u001b[39mdef\u001b[39;00m \u001b[39mforward\u001b[39m(\u001b[39mself\u001b[39m, input_ids, attention_mask, labels\u001b[39m=\u001b[39m\u001b[39mNone\u001b[39;00m, \u001b[39m*\u001b[39m\u001b[39m*\u001b[39mkwargs):\n\u001b[0;32m---> 56\u001b[0m     encoder_out \u001b[39m=\u001b[39m \u001b[39mself\u001b[39;49m\u001b[39m.\u001b[39;49mencoder(input_ids, attention_mask, \u001b[39m*\u001b[39;49m\u001b[39m*\u001b[39;49mkwargs)\n\u001b[1;32m     57\u001b[0m     cls_encoded \u001b[39m=\u001b[39m encoder_out[\u001b[39m0\u001b[39m][:, \u001b[39m0\u001b[39m, :]  \u001b[39m# take <s> token (equiv. to [CLS])\u001b[39;00m\n\u001b[1;32m     58\u001b[0m     prob \u001b[39m=\u001b[39m \u001b[39mself\u001b[39m\u001b[39m.\u001b[39mclassifier(cls_encoded)\n",
      "File \u001b[0;32m~/miniconda3/lib/python3.10/site-packages/torch/nn/modules/module.py:1130\u001b[0m, in \u001b[0;36mModule._call_impl\u001b[0;34m(self, *input, **kwargs)\u001b[0m\n\u001b[1;32m   1126\u001b[0m \u001b[39m# If we don't have any hooks, we want to skip the rest of the logic in\u001b[39;00m\n\u001b[1;32m   1127\u001b[0m \u001b[39m# this function, and just call forward.\u001b[39;00m\n\u001b[1;32m   1128\u001b[0m \u001b[39mif\u001b[39;00m \u001b[39mnot\u001b[39;00m (\u001b[39mself\u001b[39m\u001b[39m.\u001b[39m_backward_hooks \u001b[39mor\u001b[39;00m \u001b[39mself\u001b[39m\u001b[39m.\u001b[39m_forward_hooks \u001b[39mor\u001b[39;00m \u001b[39mself\u001b[39m\u001b[39m.\u001b[39m_forward_pre_hooks \u001b[39mor\u001b[39;00m _global_backward_hooks\n\u001b[1;32m   1129\u001b[0m         \u001b[39mor\u001b[39;00m _global_forward_hooks \u001b[39mor\u001b[39;00m _global_forward_pre_hooks):\n\u001b[0;32m-> 1130\u001b[0m     \u001b[39mreturn\u001b[39;00m forward_call(\u001b[39m*\u001b[39;49m\u001b[39minput\u001b[39;49m, \u001b[39m*\u001b[39;49m\u001b[39m*\u001b[39;49mkwargs)\n\u001b[1;32m   1131\u001b[0m \u001b[39m# Do not call functions when jit is used\u001b[39;00m\n\u001b[1;32m   1132\u001b[0m full_backward_hooks, non_full_backward_hooks \u001b[39m=\u001b[39m [], []\n",
      "File \u001b[0;32m~/miniconda3/lib/python3.10/site-packages/transformers/models/roberta/modeling_roberta.py:852\u001b[0m, in \u001b[0;36mRobertaModel.forward\u001b[0;34m(self, input_ids, attention_mask, token_type_ids, position_ids, head_mask, inputs_embeds, encoder_hidden_states, encoder_attention_mask, past_key_values, use_cache, output_attentions, output_hidden_states, return_dict)\u001b[0m\n\u001b[1;32m    843\u001b[0m head_mask \u001b[39m=\u001b[39m \u001b[39mself\u001b[39m\u001b[39m.\u001b[39mget_head_mask(head_mask, \u001b[39mself\u001b[39m\u001b[39m.\u001b[39mconfig\u001b[39m.\u001b[39mnum_hidden_layers)\n\u001b[1;32m    845\u001b[0m embedding_output \u001b[39m=\u001b[39m \u001b[39mself\u001b[39m\u001b[39m.\u001b[39membeddings(\n\u001b[1;32m    846\u001b[0m     input_ids\u001b[39m=\u001b[39minput_ids,\n\u001b[1;32m    847\u001b[0m     position_ids\u001b[39m=\u001b[39mposition_ids,\n\u001b[0;32m   (...)\u001b[0m\n\u001b[1;32m    850\u001b[0m     past_key_values_length\u001b[39m=\u001b[39mpast_key_values_length,\n\u001b[1;32m    851\u001b[0m )\n\u001b[0;32m--> 852\u001b[0m encoder_outputs \u001b[39m=\u001b[39m \u001b[39mself\u001b[39;49m\u001b[39m.\u001b[39;49mencoder(\n\u001b[1;32m    853\u001b[0m     embedding_output,\n\u001b[1;32m    854\u001b[0m     attention_mask\u001b[39m=\u001b[39;49mextended_attention_mask,\n\u001b[1;32m    855\u001b[0m     head_mask\u001b[39m=\u001b[39;49mhead_mask,\n\u001b[1;32m    856\u001b[0m     encoder_hidden_states\u001b[39m=\u001b[39;49mencoder_hidden_states,\n\u001b[1;32m    857\u001b[0m     encoder_attention_mask\u001b[39m=\u001b[39;49mencoder_extended_attention_mask,\n\u001b[1;32m    858\u001b[0m     past_key_values\u001b[39m=\u001b[39;49mpast_key_values,\n\u001b[1;32m    859\u001b[0m     use_cache\u001b[39m=\u001b[39;49muse_cache,\n\u001b[1;32m    860\u001b[0m     output_attentions\u001b[39m=\u001b[39;49moutput_attentions,\n\u001b[1;32m    861\u001b[0m     output_hidden_states\u001b[39m=\u001b[39;49moutput_hidden_states,\n\u001b[1;32m    862\u001b[0m     return_dict\u001b[39m=\u001b[39;49mreturn_dict,\n\u001b[1;32m    863\u001b[0m )\n\u001b[1;32m    864\u001b[0m sequence_output \u001b[39m=\u001b[39m encoder_outputs[\u001b[39m0\u001b[39m]\n\u001b[1;32m    865\u001b[0m pooled_output \u001b[39m=\u001b[39m \u001b[39mself\u001b[39m\u001b[39m.\u001b[39mpooler(sequence_output) \u001b[39mif\u001b[39;00m \u001b[39mself\u001b[39m\u001b[39m.\u001b[39mpooler \u001b[39mis\u001b[39;00m \u001b[39mnot\u001b[39;00m \u001b[39mNone\u001b[39;00m \u001b[39melse\u001b[39;00m \u001b[39mNone\u001b[39;00m\n",
      "File \u001b[0;32m~/miniconda3/lib/python3.10/site-packages/torch/nn/modules/module.py:1130\u001b[0m, in \u001b[0;36mModule._call_impl\u001b[0;34m(self, *input, **kwargs)\u001b[0m\n\u001b[1;32m   1126\u001b[0m \u001b[39m# If we don't have any hooks, we want to skip the rest of the logic in\u001b[39;00m\n\u001b[1;32m   1127\u001b[0m \u001b[39m# this function, and just call forward.\u001b[39;00m\n\u001b[1;32m   1128\u001b[0m \u001b[39mif\u001b[39;00m \u001b[39mnot\u001b[39;00m (\u001b[39mself\u001b[39m\u001b[39m.\u001b[39m_backward_hooks \u001b[39mor\u001b[39;00m \u001b[39mself\u001b[39m\u001b[39m.\u001b[39m_forward_hooks \u001b[39mor\u001b[39;00m \u001b[39mself\u001b[39m\u001b[39m.\u001b[39m_forward_pre_hooks \u001b[39mor\u001b[39;00m _global_backward_hooks\n\u001b[1;32m   1129\u001b[0m         \u001b[39mor\u001b[39;00m _global_forward_hooks \u001b[39mor\u001b[39;00m _global_forward_pre_hooks):\n\u001b[0;32m-> 1130\u001b[0m     \u001b[39mreturn\u001b[39;00m forward_call(\u001b[39m*\u001b[39;49m\u001b[39minput\u001b[39;49m, \u001b[39m*\u001b[39;49m\u001b[39m*\u001b[39;49mkwargs)\n\u001b[1;32m   1131\u001b[0m \u001b[39m# Do not call functions when jit is used\u001b[39;00m\n\u001b[1;32m   1132\u001b[0m full_backward_hooks, non_full_backward_hooks \u001b[39m=\u001b[39m [], []\n",
      "File \u001b[0;32m~/miniconda3/lib/python3.10/site-packages/transformers/models/roberta/modeling_roberta.py:527\u001b[0m, in \u001b[0;36mRobertaEncoder.forward\u001b[0;34m(self, hidden_states, attention_mask, head_mask, encoder_hidden_states, encoder_attention_mask, past_key_values, use_cache, output_attentions, output_hidden_states, return_dict)\u001b[0m\n\u001b[1;32m    518\u001b[0m     layer_outputs \u001b[39m=\u001b[39m torch\u001b[39m.\u001b[39mutils\u001b[39m.\u001b[39mcheckpoint\u001b[39m.\u001b[39mcheckpoint(\n\u001b[1;32m    519\u001b[0m         create_custom_forward(layer_module),\n\u001b[1;32m    520\u001b[0m         hidden_states,\n\u001b[0;32m   (...)\u001b[0m\n\u001b[1;32m    524\u001b[0m         encoder_attention_mask,\n\u001b[1;32m    525\u001b[0m     )\n\u001b[1;32m    526\u001b[0m \u001b[39melse\u001b[39;00m:\n\u001b[0;32m--> 527\u001b[0m     layer_outputs \u001b[39m=\u001b[39m layer_module(\n\u001b[1;32m    528\u001b[0m         hidden_states,\n\u001b[1;32m    529\u001b[0m         attention_mask,\n\u001b[1;32m    530\u001b[0m         layer_head_mask,\n\u001b[1;32m    531\u001b[0m         encoder_hidden_states,\n\u001b[1;32m    532\u001b[0m         encoder_attention_mask,\n\u001b[1;32m    533\u001b[0m         past_key_value,\n\u001b[1;32m    534\u001b[0m         output_attentions,\n\u001b[1;32m    535\u001b[0m     )\n\u001b[1;32m    537\u001b[0m hidden_states \u001b[39m=\u001b[39m layer_outputs[\u001b[39m0\u001b[39m]\n\u001b[1;32m    538\u001b[0m \u001b[39mif\u001b[39;00m use_cache:\n",
      "File \u001b[0;32m~/miniconda3/lib/python3.10/site-packages/torch/nn/modules/module.py:1130\u001b[0m, in \u001b[0;36mModule._call_impl\u001b[0;34m(self, *input, **kwargs)\u001b[0m\n\u001b[1;32m   1126\u001b[0m \u001b[39m# If we don't have any hooks, we want to skip the rest of the logic in\u001b[39;00m\n\u001b[1;32m   1127\u001b[0m \u001b[39m# this function, and just call forward.\u001b[39;00m\n\u001b[1;32m   1128\u001b[0m \u001b[39mif\u001b[39;00m \u001b[39mnot\u001b[39;00m (\u001b[39mself\u001b[39m\u001b[39m.\u001b[39m_backward_hooks \u001b[39mor\u001b[39;00m \u001b[39mself\u001b[39m\u001b[39m.\u001b[39m_forward_hooks \u001b[39mor\u001b[39;00m \u001b[39mself\u001b[39m\u001b[39m.\u001b[39m_forward_pre_hooks \u001b[39mor\u001b[39;00m _global_backward_hooks\n\u001b[1;32m   1129\u001b[0m         \u001b[39mor\u001b[39;00m _global_forward_hooks \u001b[39mor\u001b[39;00m _global_forward_pre_hooks):\n\u001b[0;32m-> 1130\u001b[0m     \u001b[39mreturn\u001b[39;00m forward_call(\u001b[39m*\u001b[39;49m\u001b[39minput\u001b[39;49m, \u001b[39m*\u001b[39;49m\u001b[39m*\u001b[39;49mkwargs)\n\u001b[1;32m   1131\u001b[0m \u001b[39m# Do not call functions when jit is used\u001b[39;00m\n\u001b[1;32m   1132\u001b[0m full_backward_hooks, non_full_backward_hooks \u001b[39m=\u001b[39m [], []\n",
      "File \u001b[0;32m~/miniconda3/lib/python3.10/site-packages/transformers/models/roberta/modeling_roberta.py:453\u001b[0m, in \u001b[0;36mRobertaLayer.forward\u001b[0;34m(self, hidden_states, attention_mask, head_mask, encoder_hidden_states, encoder_attention_mask, past_key_value, output_attentions)\u001b[0m\n\u001b[1;32m    450\u001b[0m     cross_attn_present_key_value \u001b[39m=\u001b[39m cross_attention_outputs[\u001b[39m-\u001b[39m\u001b[39m1\u001b[39m]\n\u001b[1;32m    451\u001b[0m     present_key_value \u001b[39m=\u001b[39m present_key_value \u001b[39m+\u001b[39m cross_attn_present_key_value\n\u001b[0;32m--> 453\u001b[0m layer_output \u001b[39m=\u001b[39m apply_chunking_to_forward(\n\u001b[1;32m    454\u001b[0m     \u001b[39mself\u001b[39;49m\u001b[39m.\u001b[39;49mfeed_forward_chunk, \u001b[39mself\u001b[39;49m\u001b[39m.\u001b[39;49mchunk_size_feed_forward, \u001b[39mself\u001b[39;49m\u001b[39m.\u001b[39;49mseq_len_dim, attention_output\n\u001b[1;32m    455\u001b[0m )\n\u001b[1;32m    456\u001b[0m outputs \u001b[39m=\u001b[39m (layer_output,) \u001b[39m+\u001b[39m outputs\n\u001b[1;32m    458\u001b[0m \u001b[39m# if decoder, return the attn key/values as the last output\u001b[39;00m\n",
      "File \u001b[0;32m~/miniconda3/lib/python3.10/site-packages/transformers/pytorch_utils.py:237\u001b[0m, in \u001b[0;36mapply_chunking_to_forward\u001b[0;34m(forward_fn, chunk_size, chunk_dim, *input_tensors)\u001b[0m\n\u001b[1;32m    234\u001b[0m     \u001b[39m# concatenate output at same dimension\u001b[39;00m\n\u001b[1;32m    235\u001b[0m     \u001b[39mreturn\u001b[39;00m torch\u001b[39m.\u001b[39mcat(output_chunks, dim\u001b[39m=\u001b[39mchunk_dim)\n\u001b[0;32m--> 237\u001b[0m \u001b[39mreturn\u001b[39;00m forward_fn(\u001b[39m*\u001b[39;49minput_tensors)\n",
      "File \u001b[0;32m~/miniconda3/lib/python3.10/site-packages/transformers/models/roberta/modeling_roberta.py:465\u001b[0m, in \u001b[0;36mRobertaLayer.feed_forward_chunk\u001b[0;34m(self, attention_output)\u001b[0m\n\u001b[1;32m    464\u001b[0m \u001b[39mdef\u001b[39;00m \u001b[39mfeed_forward_chunk\u001b[39m(\u001b[39mself\u001b[39m, attention_output):\n\u001b[0;32m--> 465\u001b[0m     intermediate_output \u001b[39m=\u001b[39m \u001b[39mself\u001b[39;49m\u001b[39m.\u001b[39;49mintermediate(attention_output)\n\u001b[1;32m    466\u001b[0m     layer_output \u001b[39m=\u001b[39m \u001b[39mself\u001b[39m\u001b[39m.\u001b[39moutput(intermediate_output, attention_output)\n\u001b[1;32m    467\u001b[0m     \u001b[39mreturn\u001b[39;00m layer_output\n",
      "File \u001b[0;32m~/miniconda3/lib/python3.10/site-packages/torch/nn/modules/module.py:1130\u001b[0m, in \u001b[0;36mModule._call_impl\u001b[0;34m(self, *input, **kwargs)\u001b[0m\n\u001b[1;32m   1126\u001b[0m \u001b[39m# If we don't have any hooks, we want to skip the rest of the logic in\u001b[39;00m\n\u001b[1;32m   1127\u001b[0m \u001b[39m# this function, and just call forward.\u001b[39;00m\n\u001b[1;32m   1128\u001b[0m \u001b[39mif\u001b[39;00m \u001b[39mnot\u001b[39;00m (\u001b[39mself\u001b[39m\u001b[39m.\u001b[39m_backward_hooks \u001b[39mor\u001b[39;00m \u001b[39mself\u001b[39m\u001b[39m.\u001b[39m_forward_hooks \u001b[39mor\u001b[39;00m \u001b[39mself\u001b[39m\u001b[39m.\u001b[39m_forward_pre_hooks \u001b[39mor\u001b[39;00m _global_backward_hooks\n\u001b[1;32m   1129\u001b[0m         \u001b[39mor\u001b[39;00m _global_forward_hooks \u001b[39mor\u001b[39;00m _global_forward_pre_hooks):\n\u001b[0;32m-> 1130\u001b[0m     \u001b[39mreturn\u001b[39;00m forward_call(\u001b[39m*\u001b[39;49m\u001b[39minput\u001b[39;49m, \u001b[39m*\u001b[39;49m\u001b[39m*\u001b[39;49mkwargs)\n\u001b[1;32m   1131\u001b[0m \u001b[39m# Do not call functions when jit is used\u001b[39;00m\n\u001b[1;32m   1132\u001b[0m full_backward_hooks, non_full_backward_hooks \u001b[39m=\u001b[39m [], []\n",
      "File \u001b[0;32m~/miniconda3/lib/python3.10/site-packages/transformers/models/roberta/modeling_roberta.py:363\u001b[0m, in \u001b[0;36mRobertaIntermediate.forward\u001b[0;34m(self, hidden_states)\u001b[0m\n\u001b[1;32m    362\u001b[0m \u001b[39mdef\u001b[39;00m \u001b[39mforward\u001b[39m(\u001b[39mself\u001b[39m, hidden_states: torch\u001b[39m.\u001b[39mTensor) \u001b[39m-\u001b[39m\u001b[39m>\u001b[39m torch\u001b[39m.\u001b[39mTensor:\n\u001b[0;32m--> 363\u001b[0m     hidden_states \u001b[39m=\u001b[39m \u001b[39mself\u001b[39;49m\u001b[39m.\u001b[39;49mdense(hidden_states)\n\u001b[1;32m    364\u001b[0m     hidden_states \u001b[39m=\u001b[39m \u001b[39mself\u001b[39m\u001b[39m.\u001b[39mintermediate_act_fn(hidden_states)\n\u001b[1;32m    365\u001b[0m     \u001b[39mreturn\u001b[39;00m hidden_states\n",
      "File \u001b[0;32m~/miniconda3/lib/python3.10/site-packages/torch/nn/modules/module.py:1130\u001b[0m, in \u001b[0;36mModule._call_impl\u001b[0;34m(self, *input, **kwargs)\u001b[0m\n\u001b[1;32m   1126\u001b[0m \u001b[39m# If we don't have any hooks, we want to skip the rest of the logic in\u001b[39;00m\n\u001b[1;32m   1127\u001b[0m \u001b[39m# this function, and just call forward.\u001b[39;00m\n\u001b[1;32m   1128\u001b[0m \u001b[39mif\u001b[39;00m \u001b[39mnot\u001b[39;00m (\u001b[39mself\u001b[39m\u001b[39m.\u001b[39m_backward_hooks \u001b[39mor\u001b[39;00m \u001b[39mself\u001b[39m\u001b[39m.\u001b[39m_forward_hooks \u001b[39mor\u001b[39;00m \u001b[39mself\u001b[39m\u001b[39m.\u001b[39m_forward_pre_hooks \u001b[39mor\u001b[39;00m _global_backward_hooks\n\u001b[1;32m   1129\u001b[0m         \u001b[39mor\u001b[39;00m _global_forward_hooks \u001b[39mor\u001b[39;00m _global_forward_pre_hooks):\n\u001b[0;32m-> 1130\u001b[0m     \u001b[39mreturn\u001b[39;00m forward_call(\u001b[39m*\u001b[39;49m\u001b[39minput\u001b[39;49m, \u001b[39m*\u001b[39;49m\u001b[39m*\u001b[39;49mkwargs)\n\u001b[1;32m   1131\u001b[0m \u001b[39m# Do not call functions when jit is used\u001b[39;00m\n\u001b[1;32m   1132\u001b[0m full_backward_hooks, non_full_backward_hooks \u001b[39m=\u001b[39m [], []\n",
      "File \u001b[0;32m~/miniconda3/lib/python3.10/site-packages/torch/nn/modules/linear.py:114\u001b[0m, in \u001b[0;36mLinear.forward\u001b[0;34m(self, input)\u001b[0m\n\u001b[1;32m    113\u001b[0m \u001b[39mdef\u001b[39;00m \u001b[39mforward\u001b[39m(\u001b[39mself\u001b[39m, \u001b[39minput\u001b[39m: Tensor) \u001b[39m-\u001b[39m\u001b[39m>\u001b[39m Tensor:\n\u001b[0;32m--> 114\u001b[0m     \u001b[39mreturn\u001b[39;00m F\u001b[39m.\u001b[39;49mlinear(\u001b[39minput\u001b[39;49m, \u001b[39mself\u001b[39;49m\u001b[39m.\u001b[39;49mweight, \u001b[39mself\u001b[39;49m\u001b[39m.\u001b[39;49mbias)\n",
      "\u001b[0;31mKeyboardInterrupt\u001b[0m: "
     ]
    }
   ],
   "source": [
    "# Training loop\n",
    "import random\n",
    "\n",
    "best_val_f1 = -1\n",
    "best_val_positive_threshold = -1\n",
    "best_val_prec = -1\n",
    "\n",
    "ckpt_basename = f'ckpt_{RUN_NAME}'\n",
    "if N_EPOCHS == 0:\n",
    "    metrics = compute_model_metrics(my_model, val_dataloader)\n",
    "    best_val_f1 = metrics['weighted_f1']\n",
    "    best_val_positive_threshold = metrics['positive_threshold']\n",
    "    best_val_prec = metrics['precision']\n",
    "\n",
    "for epoch in range(start_epoch, N_EPOCHS):\n",
    "    print('Epoch {} / {}'.format(epoch + 1, N_EPOCHS))\n",
    "    my_model.train()\n",
    "    if USE_EXTRAS_FILE:\n",
    "        from data import CustomConcatDataset, custom_dataset_from_zipped_items\n",
    "        # Create new dataset with balanced sample from train + extras\n",
    "        n_examples_in_epoch = len(train_dataset)\n",
    "        concat_ds = CustomConcatDataset(train_dataset, extras_dataset)\n",
    "        negative_items = [i for i in concat_ds if i[1] == 0]\n",
    "        positive_items = [i for i in concat_ds if i[1] == 1]\n",
    "        random.shuffle(negative_items)\n",
    "        random.shuffle(positive_items)\n",
    "        concat_ds = custom_dataset_from_zipped_items(negative_items[:n_examples_in_epoch//2] + positive_items[:n_examples_in_epoch//2])\n",
    "        train_dataloader = DataLoader(concat_ds, batch_size=BATCH_SIZE, shuffle=True, collate_fn=collate_fn)\n",
    "\n",
    "    if DEBUG:\n",
    "        # In debug mode just load a random sample of 100 from the training set\n",
    "        ds = train_dataset if not USE_EXTRAS_FILE else concat_ds\n",
    "        train_dataloader = DataLoader(ds, batch_size=BATCH_SIZE, collate_fn=collate_fn, sampler=torch.utils.data.SubsetRandomSampler(range(100)))\n",
    "    # Log loss at least 100 times per epoch\n",
    "    loss_log_interval = max(1, len(train_dataloader) // 100)\n",
    "    bar = tqdm(train_dataloader, bar_format='{l_bar}{bar:16}{r_bar}')\n",
    "    # Record loss values to average out for logging\n",
    "    loss_accum = []\n",
    "    acc_accum = []\n",
    "    epoch_acc = []\n",
    "    epoch_loss = []\n",
    "    for step, batch in enumerate(bar):\n",
    "        input_ids, attention_mask, labels, _ = batch\n",
    "        if use_cuda or USE_DEEPSPEED:\n",
    "            input_ids = input_ids.cuda()\n",
    "            attention_mask = attention_mask.cuda()\n",
    "            labels = labels.cuda()\n",
    "        if USE_DEEPSPEED:\n",
    "            prob, loss, _ = model_engine(input_ids, attention_mask, labels)\n",
    "            model_engine.backward(loss)\n",
    "            model_engine.step()\n",
    "        else:\n",
    "            prob, loss, _ = my_model(input_ids, attention_mask, labels)\n",
    "            loss.backward()\n",
    "            optimizer.step()\n",
    "            optimizer.zero_grad()\n",
    "        loss_accum.append(loss.item())\n",
    "        acc_accum.append((prob.argmax(dim=1) == labels).float().mean().item())\n",
    "        if step % loss_log_interval == 0:\n",
    "            loss_avg = sum(loss_accum) / len(loss_accum) if len(loss_accum) > 0 else 0\n",
    "            acc_avg = sum(acc_accum) / len(acc_accum) if len(acc_accum) > 0 else 0\n",
    "            bar.set_postfix_str('[Loss: {}]'.format(loss_avg))\n",
    "            epoch_acc.append(acc_avg)\n",
    "            epoch_loss.append(loss_avg)\n",
    "            loss_accum = []\n",
    "            acc_accum = []\n",
    "            if USE_WANDB:\n",
    "                wandb.log({'train_loss': loss_avg, 'train_acc': acc_avg})\n",
    "\n",
    "    print()\n",
    "    print(f'Training loss: {sum(epoch_loss) / len(epoch_loss)}, accuracy: {sum(epoch_acc) / len(epoch_acc)}')\n",
    "    # Validate the model\n",
    "    metrics = compute_model_metrics(my_model, val_dataloader)\n",
    "    if USE_WANDB:\n",
    "        wandb.log({'val_' + k: metrics[k] for k in METRICS_KEYS})\n",
    "    print(f'Validation loss: {metrics[\"loss\"]}, accuracy: {metrics[\"acc\"]}, F1: {metrics[\"f1\"]}, precision: {metrics[\"precision\"]}, weighted f1: {metrics[\"weighted_f1\"]} at threshold {metrics[\"positive_threshold\"]}')\n",
    "\n",
    "    def save(filename):\n",
    "        torch.save({\n",
    "            'epoch': epoch,\n",
    "            'model_state_dict': my_model.state_dict(),\n",
    "            'optimizer_state_dict': optimizer.state_dict(),\n",
    "            'model_type': MODEL_TYPE,\n",
    "            'model_size': MODEL_SIZE,\n",
    "            'max_length': MAX_LENGTH,\n",
    "            'loss': loss,\n",
    "            'positive_threshold': metrics['positive_threshold'],\n",
    "        }, filename)\n",
    "\n",
    "    # Save a checkpoint of the model and optimizer state\n",
    "    if SAVE_CHECKPOINTS:\n",
    "        if (epoch + 1) % SAVE_CHECKPOINT_INTERVAL == 0 or (epoch + 1) == N_EPOCHS:\n",
    "            ckpt_file = 'checkpoints/{}_{}.pt'.format(ckpt_basename, epoch)\n",
    "            save(ckpt_file)\n",
    "            print('Saved checkpoint to {}'.format(ckpt_file))\n",
    "    if metrics['weighted_f1'] >= best_val_f1:\n",
    "        if SAVE_BEST:\n",
    "            ckpt_file = f'checkpoints/{ckpt_basename}_best_f1.pt'\n",
    "            save(ckpt_file)\n",
    "            print('Saved checkpoint to {}'.format(ckpt_file))\n",
    "        best_val_f1 = metrics['weighted_f1']\n",
    "        best_val_positive_threshold = metrics['positive_threshold']\n",
    "    if metrics['precision'] >= best_val_prec:\n",
    "        if SAVE_BEST:\n",
    "            ckpt_file = f'checkpoints/{ckpt_basename}_best_prec.pt'\n",
    "            save(ckpt_file)\n",
    "            print('Saved checkpoint to {}'.format(ckpt_file))\n",
    "        best_val_prec = metrics['precision']\n",
    "\n",
    "\n",
    "# Save best model to wandb\n",
    "if USE_WANDB and SAVE_BEST and SAVE_ARTIFACTS_WANDB:\n",
    "    wandb.save(f'checkpoints/{ckpt_basename}_best_f1.pt', policy='end')\n",
    "    wandb.save(f'checkpoints/{ckpt_basename}_best_prec.pt', policy='end')"
   ]
  },
  {
   "cell_type": "code",
   "execution_count": null,
   "metadata": {},
   "outputs": [
    {
     "name": "stderr",
     "output_type": "stream",
     "text": [
      "100%|██████████| 734/734 [09:35<00:00,  1.28it/s]"
     ]
    },
    {
     "name": "stdout",
     "output_type": "stream",
     "text": [
      "Confusion matrix of validation set\n",
      "[[   0 1100]\n",
      " [   0 1100]]\n",
      "false positives: 1100, false negatives: 0\n"
     ]
    },
    {
     "name": "stderr",
     "output_type": "stream",
     "text": [
      "\n"
     ]
    }
   ],
   "source": [
    "# Load the model with best validation score\n",
    "if SAVE_BEST:\n",
    "    ckpt_file = f'checkpoints/{ckpt_basename}_best_f1.pt'\n",
    "    print('Loading best validation model from {}'.format(ckpt_file))\n",
    "    prev_state = torch.load(ckpt_file)\n",
    "    my_model.load_state_dict(prev_state['model_state_dict'])\n",
    "    print('Loaded model from epoch {}, file {}'.format(prev_state['epoch'], ckpt_file))\n",
    "\n",
    "# Sample examples of mispredicted items from the validation set\n",
    "# list of data item, correct label, predicted label\n",
    "val_mispredictions = []\n",
    "val_goodpredictions = []\n",
    "val_predicted_vs_labeled = []\n",
    "\n",
    "for val_batch in tqdm(val_dataloader):\n",
    "    input_ids, attention_mask, labels, original_index = val_batch\n",
    "    if torch.cuda.is_available():\n",
    "        input_ids = input_ids.cuda()\n",
    "        attention_mask = attention_mask.cuda()\n",
    "        labels = labels.cuda()\n",
    "    with torch.no_grad():\n",
    "        prob, loss, _ = my_model(input_ids, attention_mask, labels)\n",
    "        pred = torch.argmax(prob, dim=1)\n",
    "        for i in range(len(pred)):\n",
    "            raw_entry = val_raw[original_index[i]]\n",
    "            if pred[i] != labels[i]:\n",
    "                val_mispredictions.append((raw_entry, original_index[i], labels[i], pred[i]))\n",
    "            else:\n",
    "                val_goodpredictions.append((raw_entry, original_index[i], labels[i], pred[i]))\n",
    "            val_predicted_vs_labeled.append((pred[i].item(), labels[i].item()))\n",
    "\n",
    "cm = metrics['confusion']\n",
    "print('Confusion matrix of validation set')\n",
    "print(cm)\n",
    "tn, fp, fn, tp = cm.ravel()\n",
    "print(f\"false positives: {fp}, false negatives: {fn}\")\n"
   ]
  },
  {
   "cell_type": "code",
   "execution_count": null,
   "metadata": {},
   "outputs": [
    {
     "name": "stdout",
     "output_type": "stream",
     "text": [
      "Mispredicted examples:\n",
      "Example mdnsk/leo-translate.git#8\n",
      "Correct label: 0\n",
      "Predicted label: 1\n",
      "// Return all options\n",
      "getAllOptions () {\n",
      "  return new Promise(resolve => {\n",
      "    chrome.storage.local.get({ options: {}}, data => {\n",
      "      const options = {};\n",
      "\n",
      "      for (const key in defaultValues) {\n",
      "          if (defaultValues.hasOwnProperty(key)) {\n",
      "              options[key] = getOptionValue(typeof data === 'object' ? data.options : {}, key);\n",
      "          }\n",
      "      }\n",
      "\n",
      "      return resolve(options);\n",
      "    })\n",
      "  });\n",
      "}\n",
      "--------------------------------------------------------------------------------\n",
      "Example iTwin/itwinjs-core.git#601\n",
      "Correct label: 0\n",
      "Predicted label: 1\n",
      "// Return true if the geometry is or would be represented by a wire body.\n",
      "public isWire(): boolean {\n",
      "  switch (this._type) {\n",
      "    case GeometryType.CurvePrimitive:\n",
      "      return true;\n",
      "    //  return !(this._data instanceof PointString);\n",
      "    case GeometryType.CurveCollection:\n",
      "      return this.asCurveCollection!.isOpenPath();\n",
      "    // case GeometryType.BRepEntity:\n",
      "    //  return ...\n",
      "    default:\n",
      "      return false;\n",
      "  }\n",
      "}\n",
      "--------------------------------------------------------------------------------\n",
      "Example sebastianhaas/medical-appointment-scheduling.git#44\n",
      "Correct label: 0\n",
      "Predicted label: 1\n",
      "// Create a change stream.\n",
      "public auditLogEntryCreateChangeStreamGetAuditLogEntriesChangeStream (options?: string, extraHttpRequestParams?: any ) : Observable<any> {\n",
      "    const path = this.basePath + '/AuditLogEntries/change-stream';\n",
      "\n",
      "    let queryParameters = new URLSearchParams();\n",
      "    let headerParams = this.defaultHeaders;\n",
      "    if (options !== undefined) {\n",
      "        queryParameters.set('options', String(options));\n",
      "    }\n",
      "\n",
      "    let requestOptions: RequestOptionsArgs = {\n",
      "        method: 'GET',\n",
      "        headers: headerParams,\n",
      "        search: queryParameters\n",
      "    };\n",
      "\n",
      "    return this.http.request(path, requestOptions)\n",
      "        .map((response: Response) => {\n",
      "            if (response.status === 204) {\n",
      "                return undefined;\n",
      "            } else {\n",
      "                return response.json();\n",
      "            }\n",
      "        });\n",
      "}\n",
      "--------------------------------------------------------------------------------\n",
      "Example jakezatecky/react-dual-listbox.git#44\n",
      "Correct label: 0\n",
      "Predicted label: 1\n",
      "// Filter the selected options.\n",
      "filterSelected(options) {\n",
      "    const { preserveSelectOrder, selected } = this.props;\n",
      "    const { filter: { selected: selectedFilter } } = this.state;\n",
      "\n",
      "    if (preserveSelectOrder) {\n",
      "        return this.filterSelectedByOrder(options);\n",
      "    }\n",
      "\n",
      "    // Order the selections by the default order\n",
      "    return this.filterOptions(\n",
      "        options,\n",
      "        (option) => indexesOf(this.getFlatOptions(selected), option.value),\n",
      "        selectedFilter,\n",
      "    );\n",
      "}\n",
      "--------------------------------------------------------------------------------\n",
      "Example kontent-ai/delivery-sdk-js.git#302\n",
      "Correct label: 0\n",
      "Predicted label: 1\n",
      "// Gets single content type element from given url\n",
      "getElement(\n",
      "  url: string,\n",
      "  queryConfig: ITaxonomyQueryConfig\n",
      "): Observable<ElementResponses.ElementResponse> {\n",
      "  return this.getResponse(url, queryConfig).pipe(\n",
      "    map(response => {\n",
      "      return this.responseMapper.mapElementResponse(response);\n",
      "    })\n",
      "  );\n",
      "}\n",
      "--------------------------------------------------------------------------------\n",
      "Example TheFutureGadgetsLab/WaifuXL.git#9\n",
      "Correct label: 0\n",
      "Predicted label: 1\n",
      "// Given some input, return the data URI from that.\n",
      "function getDataURIFromInput(input) {\n",
      "  return new Promise(async (resolve, reject) => {\n",
      "    if (isValidHttpUrl(input)) {\n",
      "      const blob = await fetch(input).then((r) => r.blob())\n",
      "      const dataUrl = await new Promise((resolve) => {\n",
      "        const reader = new FileReader()\n",
      "        reader.onload = () => resolve(reader.result)\n",
      "        reader.readAsDataURL(blob)\n",
      "      })\n",
      "      resolve(dataUrl)\n",
      "    } else {\n",
      "      const img = new Image()\n",
      "      img.src = input\n",
      "      img.crossOrigin = 'Anonymous'\n",
      "      img.onload = function () {\n",
      "        const canvas = document.createElement('canvas')\n",
      "        canvas.width = img.width\n",
      "        canvas.height = img.height\n",
      "        const context = canvas.getContext('2d')\n",
      "        context.drawImage(img, 0, 0)\n",
      "        resolve(canvas.toDataURL())\n",
      "      }\n",
      "    }\n",
      "  })\n",
      "}\n",
      "--------------------------------------------------------------------------------\n"
     ]
    }
   ],
   "source": [
    "# First shuffle the prediction lists\n",
    "\n",
    "random.shuffle(val_mispredictions)\n",
    "\n",
    "n_to_check = 6\n",
    "\n",
    "print('Mispredicted examples:')\n",
    "for raw_entry, input_id, label, pred in val_mispredictions[:n_to_check]:\n",
    "    # combine new comment with new code in raw entry to get full text\n",
    "    text = raw_entry['old_comment_raw'] + '\\n' + raw_entry['new_code_raw']\n",
    "    if 'id' in raw_entry:\n",
    "        example_id = raw_entry['id']\n",
    "    else:\n",
    "        example_id = input_id\n",
    "    print('Example {}'.format(example_id))\n",
    "    print('Correct label: {}'.format(label))\n",
    "    print('Predicted label: {}'.format(pred))\n",
    "    print('// {}'.format(text))\n",
    "    if label == 1:\n",
    "        print('--- correct (new) comment ---')\n",
    "        print('// {}'.format(raw_entry['new_comment_raw']))\n",
    "    print('-' * 80)"
   ]
  },
  {
   "cell_type": "code",
   "execution_count": null,
   "metadata": {},
   "outputs": [
    {
     "name": "stdout",
     "output_type": "stream",
     "text": [
      "Correctly predicted examples:\n",
      "Example WFCD/warframe-worldstate-parser.git#5\n",
      "Correct label: 1\n",
      "Predicted label: 1\n",
      "// The alert's reward types\n",
      "getRewardTypes() {\n",
      "  return this.reward.getTypes();\n",
      "}\n",
      "--- correct (new) comment ---\n",
      "// Get an array containing the types of all of the alert's rewards\n",
      "--------------------------------------------------------------------------------\n",
      "Example GetScatter/ScatterWebExtension.git#65\n",
      "Correct label: 1\n",
      "Predicted label: 1\n",
      "// Created a hash of the entire message\n",
      "static messageChecksum(message, signingAccountName, domain, network, requiredFields = []){\n",
      "    return Hasher.insecureHash(JSON.stringify(Object.assign(message, {domain, network, requiredFields})))\n",
      "}\n",
      "--- correct (new) comment ---\n",
      "// Created a insecureHash of the entire message\n",
      "--------------------------------------------------------------------------------\n",
      "Example dockstore/dockstore-ui2.git#628\n",
      "Correct label: 1\n",
      "Predicted label: 1\n",
      "// Filters the organization based on a string Case insensitive Partial match\n",
      "filterOrganizations(organizations: Array<Organization>, searchName: string): Array<Organization> | null {\n",
      "  searchName = searchName.toLowerCase();\n",
      "  if (organizations) {\n",
      "    return searchName\n",
      "      ? organizations.filter(organization => {\n",
      "          const matchOptions: string[] = [\n",
      "            organization.description,\n",
      "            organization.displayName,\n",
      "            organization.location,\n",
      "            organization.name,\n",
      "            organization.topic\n",
      "          ].filter(matchOption => !!matchOption);\n",
      "          return matchOptions.some(stringIdentifier => stringIdentifier.toLowerCase().includes(searchName));\n",
      "        })\n",
      "      : organizations;\n",
      "  }\n",
      "  return null;\n",
      "}\n",
      "--- correct (new) comment ---\n",
      "// Filters the organization based on a string Case insensitive Partial match Searches the name, description, displayName, location, and topic of each organization (does not search its collections)\n",
      "--------------------------------------------------------------------------------\n",
      "Example nesk/network.js.git#0\n",
      "Correct label: 1\n",
      "Predicted label: 1\n",
      "// Only for testing purposes! Exposes all the internal classes to the global scope.\n",
      "static _exposeInternalClasses()\n",
      "{\n",
      "    var classes = {EventDispatcher, HttpModule, LatencyModule, BandwidthModule, Timing};\n",
      "\n",
      "    Object.keys(classes).forEach(name => {\n",
      "        window[name] = classes[name];\n",
      "    });\n",
      "\n",
      "    return this;\n",
      "}\n",
      "--- correct (new) comment ---\n",
      "// Expose all the internal classes to the global scope.\n",
      "--------------------------------------------------------------------------------\n",
      "Example fantasycalendar/FoundryVTT-Sequencer.git#331\n",
      "Correct label: 1\n",
      "Predicted label: 1\n",
      "// Gets all files under a module\n",
      "getAllFileEntries(inDBPath) {\n",
      "    if (typeof inDBPath !== \"string\") return this._throwError(\"getAllFileEntries\", \"inString must be of type string\");\n",
      "    if (!this.entryExists(inDBPath)) return this._throwError(\"getAllFileEntries\", `Could not find ${inDBPath} in database`);\n",
      "    const entries = this._recurseEntriesUnder(inDBPath);\n",
      "    return lib.makeArrayUnique(entries.flat());\n",
      "}\n",
      "--- correct (new) comment ---\n",
      "// Gets all files under a database path\n",
      "--------------------------------------------------------------------------------\n",
      "Example iTwin/itwinjs-core.git#2085\n",
      "Correct label: 1\n",
      "Predicted label: 1\n",
      "// Get the value of the specified column in the ECSQL query result as XAndY.\n",
      "public getXYAndZ(): XYAndZ { return this._val.getPoint3d(); }\n",
      "--- correct (new) comment ---\n",
      "// Get the value as [[XYAndZ]]\n",
      "--------------------------------------------------------------------------------\n"
     ]
    }
   ],
   "source": [
    "random.shuffle(val_goodpredictions)\n",
    "\n",
    "print('Correctly predicted examples:')\n",
    "for raw_entry, input_id, label, pred in val_goodpredictions[:n_to_check]:\n",
    "    # combine new comment with new code in raw entry to get full text\n",
    "    text = raw_entry['old_comment_raw'] + '\\n' + raw_entry['new_code_raw']\n",
    "    if 'id' in raw_entry:\n",
    "        example_id = raw_entry['id']\n",
    "    else:\n",
    "        example_id = input_id\n",
    "    print('Example {}'.format(example_id))\n",
    "    print('Correct label: {}'.format(label))\n",
    "    print('Predicted label: {}'.format(pred))\n",
    "    print('// {}'.format(text))\n",
    "    if label == 1:\n",
    "        print('--- correct (new) comment ---')\n",
    "        print('// {}'.format(raw_entry['new_comment_raw']))\n",
    "    print('-' * 80)"
   ]
  },
  {
   "cell_type": "code",
   "execution_count": null,
   "metadata": {},
   "outputs": [
    {
     "name": "stdout",
     "output_type": "stream",
     "text": [
      "Evaluating on test set\n"
     ]
    },
    {
     "name": "stderr",
     "output_type": "stream",
     "text": [
      "100%|██████████| 734/734 [09:38<00:00,  1.27it/s]"
     ]
    },
    {
     "name": "stdout",
     "output_type": "stream",
     "text": [
      "\n",
      "Metrics:\n",
      "{'acc': 0.5,\n",
      " 'confusion': array([[   0, 1100],\n",
      "       [   0, 1100]]),\n",
      " 'f1': 0.6666666666666666,\n",
      " 'labels': array([1, 1, 1, ..., 0, 0, 0]),\n",
      " 'loss': tensor(0.0028),\n",
      " 'positive_threshold': 0.0,\n",
      " 'precision': 0.5,\n",
      " 'predictions': array([1, 1, 1, ..., 1, 1, 1]),\n",
      " 'probs': array([[0.21101841, 0.78898156],\n",
      "       [0.22203115, 0.7779689 ],\n",
      "       [0.2901392 , 0.7098608 ],\n",
      "       ...,\n",
      "       [0.22821952, 0.7717805 ],\n",
      "       [0.2569489 , 0.7430511 ],\n",
      "       [0.2140561 , 0.7859439 ]], dtype=float32),\n",
      " 'recall': 1.0,\n",
      " 'weighted_f1': 0.07342143906020394}\n",
      "Test loss: 0.0027777324430644512, accuracy: 0.5, F1: 0.6666666666666666, precision: 0.5, weighted f1: 0.07342143906020394\n",
      "Confusion matrix of test set\n",
      "[[   0 1100]\n",
      " [   0 1100]]\n",
      "false positives: 1100, false negatives: 0\n"
     ]
    },
    {
     "name": "stderr",
     "output_type": "stream",
     "text": [
      "\n",
      "/tmp/ipykernel_1653326/2628661953.py:43: DeprecationWarning: `np.int` is a deprecated alias for the builtin `int`. To silence this warning, use `int` by itself. Doing this will not modify any behavior and is safe. When replacing `np.int`, you may wish to use e.g. `np.int64` or `np.int32` to specify the precision. If you wish to review your current use, check the release note link for additional information.\n",
      "Deprecated in NumPy 1.20; for more details and guidance: https://numpy.org/devdocs/release/1.20.0-notes.html#deprecations\n",
      "  predictions = (probs[:, 1] > positive_threshold).astype(np.int) + (probs[:, 0] >= 1-positive_threshold).astype(np.int)\n"
     ]
    }
   ],
   "source": [
    "print('Evaluating on test set')\n",
    "metrics = compute_model_metrics(my_model, test_dataloader, positive_threshold=best_val_positive_threshold)\n",
    "if USE_WANDB:\n",
    "    wandb.log({'test_' + k: metrics[k] for k in METRICS_KEYS})\n",
    "print(f'Test loss: {metrics[\"loss\"]}, accuracy: {metrics[\"acc\"]}, F1: {metrics[\"f1\"]}, precision: {metrics[\"precision\"]}, weighted f1: {metrics[\"weighted_f1\"]}')\n",
    "\n",
    "cm = metrics['confusion']\n",
    "print('Confusion matrix of test set')\n",
    "print(cm)\n",
    "tn, fp, fn, tp = cm.ravel()\n",
    "print(f\"false positives: {fp}, false negatives: {fn}\")\n"
   ]
  },
  {
   "cell_type": "code",
   "execution_count": null,
   "metadata": {},
   "outputs": [
    {
     "data": {
      "image/png": "[encoded data removed]",
      "text/plain": [
       "<Figure size 640x480 with 1 Axes>"
      ]
     },
     "metadata": {},
     "output_type": "display_data"
    }
   ],
   "source": [
    "# Plot a precision recall curve on the test set\n",
    "import matplotlib.pyplot as plt\n",
    "\n",
    "# predict probabilities\n",
    "yhat = metrics['probs'][:, 1]\n",
    "threshold_range = np.arange(0.0, 1.0, 0.01)\n",
    "accuracies = []\n",
    "f1s = []\n",
    "best_acc = 0\n",
    "best_thresh = 0\n",
    "for threshold in threshold_range:\n",
    "    yhat_thresh = (yhat > threshold).astype(int)\n",
    "    accuracies.append(np.mean(yhat_thresh == metrics['labels']))\n",
    "    f1s.append(sklearn.metrics.f1_score(metrics['labels'], yhat_thresh))\n",
    "# Plot\n",
    "plt.plot(threshold_range, accuracies, marker='.')\n",
    "plt.xlabel('Threshold')\n",
    "plt.ylabel('Accuracy')\n",
    "plt.title('Accuracy vs. Threshold')\n",
    "table = wandb.Table(data=list(zip(threshold_range, accuracies)), columns=[\"threshold\", \"accuracy\"])\n",
    "wandb.log({'accuracy_vs_threshold': wandb.plot.line(table, \"threshold\", \"accuracy\", title=\"Accuracy vs. Threshold\")})\n",
    "tablef1 = wandb.Table(data=list(zip(threshold_range, f1s)), columns=[\"threshold\", \"f1\"])\n",
    "wandb.log({'f1_vs_threshold': wandb.plot.line(table, \"threshold\", \"f1\", title=\"Unweighted F1 vs. Threshold\")})"
   ]
  },
  {
   "cell_type": "code",
   "execution_count": null,
   "metadata": {},
   "outputs": [
    {
     "name": "stdout",
     "output_type": "stream",
     "text": [
      "Best threshold: 0.0\n",
      "Best accuracy: 0.5\n"
     ]
    },
    {
     "data": {
      "image/png": "[encoded data removed]",
      "text/plain": [
       "<Figure size 640x480 with 1 Axes>"
      ]
     },
     "metadata": {},
     "output_type": "display_data"
    }
   ],
   "source": [
    "# print best threshold\n",
    "best_thresh = threshold_range[np.argmax(accuracies)]\n",
    "print(f\"Best threshold: {best_thresh}\")\n",
    "print(f\"Best accuracy: {np.max(accuracies)}\")\n",
    "\n",
    "# Then plot the precision recall curve\n",
    "from sklearn.metrics import precision_recall_curve\n",
    "\n",
    "precision, recall, thresholds = precision_recall_curve(metrics['labels'], yhat)\n",
    "plt.plot(recall, precision, marker='.')\n",
    "plt.xlabel('Recall')\n",
    "plt.ylabel('Precision')\n",
    "plt.title('Precision vs. Recall')\n",
    "table = wandb.Table(data=list(zip(recall, precision)), columns=[\"recall\", \"precision\"])\n",
    "wandb.log({'precision_vs_recall': wandb.plot.line(table, \"recall\", \"precision\", title=\"Precision vs. Recall\")})"
   ]
  },
  {
   "cell_type": "code",
   "execution_count": null,
   "metadata": {},
   "outputs": [
    {
     "name": "stdout",
     "output_type": "stream",
     "text": [
      "Evaluating on additional test sets\n"
     ]
    }
   ],
   "source": [
    "print('Evaluating on additional test sets')\n",
    "for path in ADDITIONAL_TEST_FILES:\n",
    "    folder = os.path.dirname(path)\n",
    "    ensure_data_folder(folder)\n",
    "    test_language = 'py' if 'python' in path.lower() else 'go' if 'go' in path.lower() else 'js' if 'js' in path.lower() else 'java'\n",
    "    print(f'Loaded test set for {test_language} from {path}')\n",
    "    new_data_raw, new_dataset = dataset_from_file(path, MODEL_TYPE, tokenizer, MAX_LENGTH)\n",
    "    new_dataloader = DataLoader(new_dataset, batch_size=BATCH_SIZE, shuffle=False, collate_fn=collate_fn)\n",
    "    metrics = compute_model_metrics(my_model, new_dataloader, language=test_language, positive_threshold=best_val_positive_threshold)\n",
    "    print(f'Results on {path}:')\n",
    "    print(f'Test loss: {metrics[\"loss\"]}, accuracy: {metrics[\"acc\"]}, F1: {metrics[\"f1\"]}, precision: {metrics[\"precision\"]}, weighted f1: {metrics[\"weighted_f1\"]} at threshold {metrics[\"positive_threshold\"]}')\n",
    "    if USE_WANDB:\n",
    "        log_prefix = path.replace('.json', '').replace('data/', '')\n",
    "        wandb.log({log_prefix + '_' + k: metrics[k] for k in METRICS_KEYS})\n",
    "    cm = metrics['confusion']\n",
    "    print('Confusion matrix of test set')\n",
    "    print(cm)\n",
    "    tn, fp, fn, tp = cm.ravel()\n",
    "    print(f\"false positives: {fp}, false negatives: {fn}\")"
   ]
  },
  {
   "cell_type": "code",
   "execution_count": null,
   "metadata": {},
   "outputs": [
    {
     "name": "stdout",
     "output_type": "stream",
     "text": [
      "Loading 2200 examples from data/JS-22k/valid.json\n"
     ]
    },
    {
     "name": "stderr",
     "output_type": "stream",
     "text": [
      "100%|██████████| 2200/2200 [00:01<00:00, 1131.64it/s]\n"
     ]
    },
    {
     "name": "stdout",
     "output_type": "stream",
     "text": [
      "Total number of tokens: 281600\n",
      "Total number of truncated examples: 1282\n",
      "Total number of input tokens (ignoring truncation): 227131\n",
      "Mean: 103.24136363636363\n",
      "Median: 128.0\n",
      "Standard deviation: 34.90503243157907\n",
      "Minimum: 20\n",
      "Maximum: 128\n",
      "Loading 2200 examples from data/JS-22k/valid.json\n"
     ]
    },
    {
     "name": "stderr",
     "output_type": "stream",
     "text": [
      "100%|██████████| 2200/2200 [00:02<00:00, 1011.84it/s]\n"
     ]
    },
    {
     "name": "stdout",
     "output_type": "stream",
     "text": [
      "Total number of tokens: 281600\n",
      "Total number of truncated examples: 1257\n",
      "Total number of input tokens (ignoring truncation): 226489\n",
      "Mean: 102.94954545454546\n",
      "Median: 128.0\n",
      "Standard deviation: 34.61118710071443\n",
      "Minimum: 17\n",
      "Maximum: 128\n",
      "Loading 2200 examples from data/JS-22k/valid.json\n"
     ]
    },
    {
     "name": "stderr",
     "output_type": "stream",
     "text": [
      "100%|██████████| 2200/2200 [00:01<00:00, 1123.68it/s]\n"
     ]
    },
    {
     "name": "stdout",
     "output_type": "stream",
     "text": [
      "Total number of tokens: 281600\n",
      "Total number of truncated examples: 1282\n",
      "Total number of input tokens (ignoring truncation): 227131\n",
      "Mean: 103.24136363636363\n",
      "Median: 128.0\n",
      "Standard deviation: 34.90503243157907\n",
      "Minimum: 20\n",
      "Maximum: 128\n"
     ]
    },
    {
     "name": "stderr",
     "output_type": "stream",
     "text": [
      "100%|██████████| 734/734 [20:23<00:00,  1.67s/it]\n"
     ]
    }
   ],
   "source": [
    "# Perform post-hoc evaluation, train threshold on validation set and then evaluate on test set\n",
    "# works by getting score for old comment + old code, and then old comment + new code\n",
    "# decide whether old comment is positive now by comparing scores with threshold\n",
    "\n",
    "from data import CustomPostHocDataset, get_posthoc_collate_fn\n",
    "\n",
    "posthoc_collate_fn = get_posthoc_collate_fn(tokenizer)\n",
    "\n",
    "# First create the validation CustomPostHocDataset\n",
    "# TODO: use valid\n",
    "val_posthoc_dataset = CustomPostHocDataset('{}/test.json'.format(DATA_FOLDER), MODEL_TYPE, tokenizer, MAX_LENGTH)\n",
    "val_posthoc_dataloader = DataLoader(val_posthoc_dataset, batch_size=BATCH_SIZE, shuffle=False, collate_fn=posthoc_collate_fn)\n",
    "\n",
    "def evaluate_posthoc(dataloader):\n",
    "    my_model.eval()\n",
    "    # Store the positive label scores as a list of tuples (old_score, new_score, label)\n",
    "    all_posthoc_scores = []\n",
    "    # Ask the model for predictions on the old and new cases of the validation set\n",
    "    for batch in tqdm(dataloader):\n",
    "        old_input_ids, old_attention_mask, new_input_ids, new_attention_mask, labels, _ = batch\n",
    "        if torch.cuda.is_available():\n",
    "            old_input_ids = old_input_ids.cuda()\n",
    "            old_attention_mask = old_attention_mask.cuda()\n",
    "            new_input_ids = new_input_ids.cuda()\n",
    "            new_attention_mask = new_attention_mask.cuda()\n",
    "            labels = labels.cuda()\n",
    "        with torch.no_grad():\n",
    "            old_probs = my_model(old_input_ids, old_attention_mask, labels)[0]\n",
    "            new_probs = my_model(new_input_ids, new_attention_mask, labels)[0]\n",
    "        for old, new, label in zip(old_probs, new_probs, labels):\n",
    "            # Store the scores for the positive label\n",
    "            all_posthoc_scores.append((old[1].item(), new[1].item(), label.item()))\n",
    "    return all_posthoc_scores\n",
    "\n",
    "val_posthoc_scores = evaluate_posthoc(val_posthoc_dataloader)"
   ]
  },
  {
   "cell_type": "code",
   "execution_count": null,
   "metadata": {},
   "outputs": [
    {
     "name": "stdout",
     "output_type": "stream",
     "text": [
      "Best cutoff: 0.008000000000000895\n",
      "Best accuracy: 0.5504545454545454\n"
     ]
    },
    {
     "data": {
      "image/png": "[encoded data removed]",
      "text/plain": [
       "<Figure size 640x480 with 1 Axes>"
      ]
     },
     "metadata": {},
     "output_type": "display_data"
    }
   ],
   "source": [
    "# Find the cutoff that maximizes accuracy: i.e. we predict 1 if new - old > cutoff and 0 otherwise\n",
    "\n",
    "# Sort by the score difference\n",
    "score_differences = sorted([(new - old, label) for old, new, label in val_posthoc_scores], key=lambda x: x[0], reverse=True)\n",
    "# Find the cutoff that maximizes accuracy\n",
    "accs = []\n",
    "cutoffs = np.arange(-1, 1, 0.001)\n",
    "for cutoff in cutoffs:\n",
    "    yhat = np.array([1 if diff > cutoff else 0 for diff, _ in score_differences])\n",
    "    acc = np.mean(yhat == np.array([label for _, label in score_differences]))\n",
    "    accs.append(acc)\n",
    "\n",
    "# Create plot\n",
    "plt.plot(cutoffs, accs, marker='.')\n",
    "plt.xlabel('Cutoff')\n",
    "plt.ylabel('Accuracy')\n",
    "table = wandb.Table(data=list(zip(cutoffs, accs)), columns=[\"cutoff\", \"accuracy\"])\n",
    "wandb.log({'accuracy_vs_cutoff': wandb.plot.line(table, \"cutoff\", \"accuracy\", title=\"Accuracy vs. Cutoff\")})\n",
    "\n",
    "# print best threshold\n",
    "best_cutoff = cutoffs[np.argmax(accs)]\n",
    "print(f\"Best cutoff: {best_cutoff}\")\n",
    "print(f\"Best accuracy: {np.max(accs)}\")\n",
    "# Log to wandb\n",
    "if USE_WANDB:\n",
    "    wandb.log({'posthoc_best_cutoff': best_cutoff, 'posthoc_best_acc': np.max(accs)})"
   ]
  },
  {
   "cell_type": "code",
   "execution_count": null,
   "metadata": {},
   "outputs": [
    {
     "name": "stdout",
     "output_type": "stream",
     "text": [
      "Loading 2200 examples from data/JS-22k/test.json\n"
     ]
    },
    {
     "name": "stderr",
     "output_type": "stream",
     "text": [
      "100%|██████████| 2200/2200 [00:01<00:00, 1102.38it/s]\n"
     ]
    },
    {
     "name": "stdout",
     "output_type": "stream",
     "text": [
      "Total number of tokens: 281600\n",
      "Total number of truncated examples: 1333\n",
      "Total number of input tokens (ignoring truncation): 233651\n",
      "Mean: 106.205\n",
      "Median: 128.0\n",
      "Standard deviation: 32.21301646144699\n",
      "Minimum: 20\n",
      "Maximum: 128\n",
      "Loading 2200 examples from data/JS-22k/test.json\n"
     ]
    },
    {
     "name": "stderr",
     "output_type": "stream",
     "text": [
      "100%|██████████| 2200/2200 [00:02<00:00, 1000.04it/s]\n"
     ]
    },
    {
     "name": "stdout",
     "output_type": "stream",
     "text": [
      "Total number of tokens: 281600\n",
      "Total number of truncated examples: 1282\n",
      "Total number of input tokens (ignoring truncation): 232595\n",
      "Mean: 105.725\n",
      "Median: 128.0\n",
      "Standard deviation: 32.41501212962346\n",
      "Minimum: 12\n",
      "Maximum: 128\n",
      "Loading 2200 examples from data/JS-22k/test.json\n"
     ]
    },
    {
     "name": "stderr",
     "output_type": "stream",
     "text": [
      "100%|██████████| 2200/2200 [00:02<00:00, 1087.13it/s]\n"
     ]
    },
    {
     "name": "stdout",
     "output_type": "stream",
     "text": [
      "Total number of tokens: 281600\n",
      "Total number of truncated examples: 1333\n",
      "Total number of input tokens (ignoring truncation): 233651\n",
      "Mean: 106.205\n",
      "Median: 128.0\n",
      "Standard deviation: 32.21301646144699\n",
      "Minimum: 20\n",
      "Maximum: 128\n"
     ]
    },
    {
     "name": "stderr",
     "output_type": "stream",
     "text": [
      " 54%|█████▍    | 400/734 [11:11<09:20,  1.68s/it]\n"
     ]
    },
    {
     "ename": "KeyboardInterrupt",
     "evalue": "",
     "output_type": "error",
     "traceback": [
      "\u001b[0;31m---------------------------------------------------------------------------\u001b[0m",
      "\u001b[0;31mKeyboardInterrupt\u001b[0m                         Traceback (most recent call last)",
      "Cell \u001b[0;32mIn[20], line 4\u001b[0m\n\u001b[1;32m      2\u001b[0m test_posthoc_dataset \u001b[39m=\u001b[39m CustomPostHocDataset(\u001b[39m'\u001b[39m\u001b[39m{}\u001b[39;00m\u001b[39m/test.json\u001b[39m\u001b[39m'\u001b[39m\u001b[39m.\u001b[39mformat(DATA_FOLDER), MODEL_TYPE, tokenizer, MAX_LENGTH)\n\u001b[1;32m      3\u001b[0m test_posthoc_dataloader \u001b[39m=\u001b[39m DataLoader(test_posthoc_dataset, batch_size\u001b[39m=\u001b[39mBATCH_SIZE, shuffle\u001b[39m=\u001b[39m\u001b[39mFalse\u001b[39;00m, collate_fn\u001b[39m=\u001b[39mposthoc_collate_fn)\n\u001b[0;32m----> 4\u001b[0m test_posthoc_scores \u001b[39m=\u001b[39m evaluate_posthoc(test_posthoc_dataloader)\n\u001b[1;32m      6\u001b[0m \u001b[39m# Evaluate the model on the test set\u001b[39;00m\n\u001b[1;32m      7\u001b[0m yhat \u001b[39m=\u001b[39m np\u001b[39m.\u001b[39marray([\u001b[39m1\u001b[39m \u001b[39mif\u001b[39;00m new \u001b[39m-\u001b[39m old \u001b[39m>\u001b[39m best_cutoff \u001b[39melse\u001b[39;00m \u001b[39m0\u001b[39m \u001b[39mfor\u001b[39;00m old, new, _ \u001b[39min\u001b[39;00m test_posthoc_scores])\n",
      "Cell \u001b[0;32mIn[18], line 27\u001b[0m, in \u001b[0;36mevaluate_posthoc\u001b[0;34m(dataloader)\u001b[0m\n\u001b[1;32m     25\u001b[0m     labels \u001b[39m=\u001b[39m labels\u001b[39m.\u001b[39mcuda()\n\u001b[1;32m     26\u001b[0m \u001b[39mwith\u001b[39;00m torch\u001b[39m.\u001b[39mno_grad():\n\u001b[0;32m---> 27\u001b[0m     old_probs \u001b[39m=\u001b[39m my_model(old_input_ids, old_attention_mask, labels)[\u001b[39m0\u001b[39m]\n\u001b[1;32m     28\u001b[0m     new_probs \u001b[39m=\u001b[39m my_model(new_input_ids, new_attention_mask, labels)[\u001b[39m0\u001b[39m]\n\u001b[1;32m     29\u001b[0m \u001b[39mfor\u001b[39;00m old, new, label \u001b[39min\u001b[39;00m \u001b[39mzip\u001b[39m(old_probs, new_probs, labels):\n\u001b[1;32m     30\u001b[0m     \u001b[39m# Store the scores for the positive label\u001b[39;00m\n",
      "File \u001b[0;32m~/miniconda3/lib/python3.10/site-packages/torch/nn/modules/module.py:1130\u001b[0m, in \u001b[0;36mModule._call_impl\u001b[0;34m(self, *input, **kwargs)\u001b[0m\n\u001b[1;32m   1126\u001b[0m \u001b[39m# If we don't have any hooks, we want to skip the rest of the logic in\u001b[39;00m\n\u001b[1;32m   1127\u001b[0m \u001b[39m# this function, and just call forward.\u001b[39;00m\n\u001b[1;32m   1128\u001b[0m \u001b[39mif\u001b[39;00m \u001b[39mnot\u001b[39;00m (\u001b[39mself\u001b[39m\u001b[39m.\u001b[39m_backward_hooks \u001b[39mor\u001b[39;00m \u001b[39mself\u001b[39m\u001b[39m.\u001b[39m_forward_hooks \u001b[39mor\u001b[39;00m \u001b[39mself\u001b[39m\u001b[39m.\u001b[39m_forward_pre_hooks \u001b[39mor\u001b[39;00m _global_backward_hooks\n\u001b[1;32m   1129\u001b[0m         \u001b[39mor\u001b[39;00m _global_forward_hooks \u001b[39mor\u001b[39;00m _global_forward_pre_hooks):\n\u001b[0;32m-> 1130\u001b[0m     \u001b[39mreturn\u001b[39;00m forward_call(\u001b[39m*\u001b[39;49m\u001b[39minput\u001b[39;49m, \u001b[39m*\u001b[39;49m\u001b[39m*\u001b[39;49mkwargs)\n\u001b[1;32m   1131\u001b[0m \u001b[39m# Do not call functions when jit is used\u001b[39;00m\n\u001b[1;32m   1132\u001b[0m full_backward_hooks, non_full_backward_hooks \u001b[39m=\u001b[39m [], []\n",
      "File \u001b[0;32m~/thesis/master-project/notebooks/lib/models.py:56\u001b[0m, in \u001b[0;36mget_model.<locals>.CodeBERTBasedModel.forward\u001b[0;34m(self, input_ids, attention_mask, labels, **kwargs)\u001b[0m\n\u001b[1;32m     55\u001b[0m \u001b[39mdef\u001b[39;00m \u001b[39mforward\u001b[39m(\u001b[39mself\u001b[39m, input_ids, attention_mask, labels\u001b[39m=\u001b[39m\u001b[39mNone\u001b[39;00m, \u001b[39m*\u001b[39m\u001b[39m*\u001b[39mkwargs):\n\u001b[0;32m---> 56\u001b[0m     encoder_out \u001b[39m=\u001b[39m \u001b[39mself\u001b[39;49m\u001b[39m.\u001b[39;49mencoder(input_ids, attention_mask, \u001b[39m*\u001b[39;49m\u001b[39m*\u001b[39;49mkwargs)\n\u001b[1;32m     57\u001b[0m     cls_encoded \u001b[39m=\u001b[39m encoder_out[\u001b[39m0\u001b[39m][:, \u001b[39m0\u001b[39m, :]  \u001b[39m# take <s> token (equiv. to [CLS])\u001b[39;00m\n\u001b[1;32m     58\u001b[0m     prob \u001b[39m=\u001b[39m \u001b[39mself\u001b[39m\u001b[39m.\u001b[39mclassifier(cls_encoded)\n",
      "File \u001b[0;32m~/miniconda3/lib/python3.10/site-packages/torch/nn/modules/module.py:1130\u001b[0m, in \u001b[0;36mModule._call_impl\u001b[0;34m(self, *input, **kwargs)\u001b[0m\n\u001b[1;32m   1126\u001b[0m \u001b[39m# If we don't have any hooks, we want to skip the rest of the logic in\u001b[39;00m\n\u001b[1;32m   1127\u001b[0m \u001b[39m# this function, and just call forward.\u001b[39;00m\n\u001b[1;32m   1128\u001b[0m \u001b[39mif\u001b[39;00m \u001b[39mnot\u001b[39;00m (\u001b[39mself\u001b[39m\u001b[39m.\u001b[39m_backward_hooks \u001b[39mor\u001b[39;00m \u001b[39mself\u001b[39m\u001b[39m.\u001b[39m_forward_hooks \u001b[39mor\u001b[39;00m \u001b[39mself\u001b[39m\u001b[39m.\u001b[39m_forward_pre_hooks \u001b[39mor\u001b[39;00m _global_backward_hooks\n\u001b[1;32m   1129\u001b[0m         \u001b[39mor\u001b[39;00m _global_forward_hooks \u001b[39mor\u001b[39;00m _global_forward_pre_hooks):\n\u001b[0;32m-> 1130\u001b[0m     \u001b[39mreturn\u001b[39;00m forward_call(\u001b[39m*\u001b[39;49m\u001b[39minput\u001b[39;49m, \u001b[39m*\u001b[39;49m\u001b[39m*\u001b[39;49mkwargs)\n\u001b[1;32m   1131\u001b[0m \u001b[39m# Do not call functions when jit is used\u001b[39;00m\n\u001b[1;32m   1132\u001b[0m full_backward_hooks, non_full_backward_hooks \u001b[39m=\u001b[39m [], []\n",
      "File \u001b[0;32m~/miniconda3/lib/python3.10/site-packages/transformers/models/roberta/modeling_roberta.py:852\u001b[0m, in \u001b[0;36mRobertaModel.forward\u001b[0;34m(self, input_ids, attention_mask, token_type_ids, position_ids, head_mask, inputs_embeds, encoder_hidden_states, encoder_attention_mask, past_key_values, use_cache, output_attentions, output_hidden_states, return_dict)\u001b[0m\n\u001b[1;32m    843\u001b[0m head_mask \u001b[39m=\u001b[39m \u001b[39mself\u001b[39m\u001b[39m.\u001b[39mget_head_mask(head_mask, \u001b[39mself\u001b[39m\u001b[39m.\u001b[39mconfig\u001b[39m.\u001b[39mnum_hidden_layers)\n\u001b[1;32m    845\u001b[0m embedding_output \u001b[39m=\u001b[39m \u001b[39mself\u001b[39m\u001b[39m.\u001b[39membeddings(\n\u001b[1;32m    846\u001b[0m     input_ids\u001b[39m=\u001b[39minput_ids,\n\u001b[1;32m    847\u001b[0m     position_ids\u001b[39m=\u001b[39mposition_ids,\n\u001b[0;32m   (...)\u001b[0m\n\u001b[1;32m    850\u001b[0m     past_key_values_length\u001b[39m=\u001b[39mpast_key_values_length,\n\u001b[1;32m    851\u001b[0m )\n\u001b[0;32m--> 852\u001b[0m encoder_outputs \u001b[39m=\u001b[39m \u001b[39mself\u001b[39;49m\u001b[39m.\u001b[39;49mencoder(\n\u001b[1;32m    853\u001b[0m     embedding_output,\n\u001b[1;32m    854\u001b[0m     attention_mask\u001b[39m=\u001b[39;49mextended_attention_mask,\n\u001b[1;32m    855\u001b[0m     head_mask\u001b[39m=\u001b[39;49mhead_mask,\n\u001b[1;32m    856\u001b[0m     encoder_hidden_states\u001b[39m=\u001b[39;49mencoder_hidden_states,\n\u001b[1;32m    857\u001b[0m     encoder_attention_mask\u001b[39m=\u001b[39;49mencoder_extended_attention_mask,\n\u001b[1;32m    858\u001b[0m     past_key_values\u001b[39m=\u001b[39;49mpast_key_values,\n\u001b[1;32m    859\u001b[0m     use_cache\u001b[39m=\u001b[39;49muse_cache,\n\u001b[1;32m    860\u001b[0m     output_attentions\u001b[39m=\u001b[39;49moutput_attentions,\n\u001b[1;32m    861\u001b[0m     output_hidden_states\u001b[39m=\u001b[39;49moutput_hidden_states,\n\u001b[1;32m    862\u001b[0m     return_dict\u001b[39m=\u001b[39;49mreturn_dict,\n\u001b[1;32m    863\u001b[0m )\n\u001b[1;32m    864\u001b[0m sequence_output \u001b[39m=\u001b[39m encoder_outputs[\u001b[39m0\u001b[39m]\n\u001b[1;32m    865\u001b[0m pooled_output \u001b[39m=\u001b[39m \u001b[39mself\u001b[39m\u001b[39m.\u001b[39mpooler(sequence_output) \u001b[39mif\u001b[39;00m \u001b[39mself\u001b[39m\u001b[39m.\u001b[39mpooler \u001b[39mis\u001b[39;00m \u001b[39mnot\u001b[39;00m \u001b[39mNone\u001b[39;00m \u001b[39melse\u001b[39;00m \u001b[39mNone\u001b[39;00m\n",
      "File \u001b[0;32m~/miniconda3/lib/python3.10/site-packages/torch/nn/modules/module.py:1130\u001b[0m, in \u001b[0;36mModule._call_impl\u001b[0;34m(self, *input, **kwargs)\u001b[0m\n\u001b[1;32m   1126\u001b[0m \u001b[39m# If we don't have any hooks, we want to skip the rest of the logic in\u001b[39;00m\n\u001b[1;32m   1127\u001b[0m \u001b[39m# this function, and just call forward.\u001b[39;00m\n\u001b[1;32m   1128\u001b[0m \u001b[39mif\u001b[39;00m \u001b[39mnot\u001b[39;00m (\u001b[39mself\u001b[39m\u001b[39m.\u001b[39m_backward_hooks \u001b[39mor\u001b[39;00m \u001b[39mself\u001b[39m\u001b[39m.\u001b[39m_forward_hooks \u001b[39mor\u001b[39;00m \u001b[39mself\u001b[39m\u001b[39m.\u001b[39m_forward_pre_hooks \u001b[39mor\u001b[39;00m _global_backward_hooks\n\u001b[1;32m   1129\u001b[0m         \u001b[39mor\u001b[39;00m _global_forward_hooks \u001b[39mor\u001b[39;00m _global_forward_pre_hooks):\n\u001b[0;32m-> 1130\u001b[0m     \u001b[39mreturn\u001b[39;00m forward_call(\u001b[39m*\u001b[39;49m\u001b[39minput\u001b[39;49m, \u001b[39m*\u001b[39;49m\u001b[39m*\u001b[39;49mkwargs)\n\u001b[1;32m   1131\u001b[0m \u001b[39m# Do not call functions when jit is used\u001b[39;00m\n\u001b[1;32m   1132\u001b[0m full_backward_hooks, non_full_backward_hooks \u001b[39m=\u001b[39m [], []\n",
      "File \u001b[0;32m~/miniconda3/lib/python3.10/site-packages/transformers/models/roberta/modeling_roberta.py:527\u001b[0m, in \u001b[0;36mRobertaEncoder.forward\u001b[0;34m(self, hidden_states, attention_mask, head_mask, encoder_hidden_states, encoder_attention_mask, past_key_values, use_cache, output_attentions, output_hidden_states, return_dict)\u001b[0m\n\u001b[1;32m    518\u001b[0m     layer_outputs \u001b[39m=\u001b[39m torch\u001b[39m.\u001b[39mutils\u001b[39m.\u001b[39mcheckpoint\u001b[39m.\u001b[39mcheckpoint(\n\u001b[1;32m    519\u001b[0m         create_custom_forward(layer_module),\n\u001b[1;32m    520\u001b[0m         hidden_states,\n\u001b[0;32m   (...)\u001b[0m\n\u001b[1;32m    524\u001b[0m         encoder_attention_mask,\n\u001b[1;32m    525\u001b[0m     )\n\u001b[1;32m    526\u001b[0m \u001b[39melse\u001b[39;00m:\n\u001b[0;32m--> 527\u001b[0m     layer_outputs \u001b[39m=\u001b[39m layer_module(\n\u001b[1;32m    528\u001b[0m         hidden_states,\n\u001b[1;32m    529\u001b[0m         attention_mask,\n\u001b[1;32m    530\u001b[0m         layer_head_mask,\n\u001b[1;32m    531\u001b[0m         encoder_hidden_states,\n\u001b[1;32m    532\u001b[0m         encoder_attention_mask,\n\u001b[1;32m    533\u001b[0m         past_key_value,\n\u001b[1;32m    534\u001b[0m         output_attentions,\n\u001b[1;32m    535\u001b[0m     )\n\u001b[1;32m    537\u001b[0m hidden_states \u001b[39m=\u001b[39m layer_outputs[\u001b[39m0\u001b[39m]\n\u001b[1;32m    538\u001b[0m \u001b[39mif\u001b[39;00m use_cache:\n",
      "File \u001b[0;32m~/miniconda3/lib/python3.10/site-packages/torch/nn/modules/module.py:1130\u001b[0m, in \u001b[0;36mModule._call_impl\u001b[0;34m(self, *input, **kwargs)\u001b[0m\n\u001b[1;32m   1126\u001b[0m \u001b[39m# If we don't have any hooks, we want to skip the rest of the logic in\u001b[39;00m\n\u001b[1;32m   1127\u001b[0m \u001b[39m# this function, and just call forward.\u001b[39;00m\n\u001b[1;32m   1128\u001b[0m \u001b[39mif\u001b[39;00m \u001b[39mnot\u001b[39;00m (\u001b[39mself\u001b[39m\u001b[39m.\u001b[39m_backward_hooks \u001b[39mor\u001b[39;00m \u001b[39mself\u001b[39m\u001b[39m.\u001b[39m_forward_hooks \u001b[39mor\u001b[39;00m \u001b[39mself\u001b[39m\u001b[39m.\u001b[39m_forward_pre_hooks \u001b[39mor\u001b[39;00m _global_backward_hooks\n\u001b[1;32m   1129\u001b[0m         \u001b[39mor\u001b[39;00m _global_forward_hooks \u001b[39mor\u001b[39;00m _global_forward_pre_hooks):\n\u001b[0;32m-> 1130\u001b[0m     \u001b[39mreturn\u001b[39;00m forward_call(\u001b[39m*\u001b[39;49m\u001b[39minput\u001b[39;49m, \u001b[39m*\u001b[39;49m\u001b[39m*\u001b[39;49mkwargs)\n\u001b[1;32m   1131\u001b[0m \u001b[39m# Do not call functions when jit is used\u001b[39;00m\n\u001b[1;32m   1132\u001b[0m full_backward_hooks, non_full_backward_hooks \u001b[39m=\u001b[39m [], []\n",
      "File \u001b[0;32m~/miniconda3/lib/python3.10/site-packages/transformers/models/roberta/modeling_roberta.py:453\u001b[0m, in \u001b[0;36mRobertaLayer.forward\u001b[0;34m(self, hidden_states, attention_mask, head_mask, encoder_hidden_states, encoder_attention_mask, past_key_value, output_attentions)\u001b[0m\n\u001b[1;32m    450\u001b[0m     cross_attn_present_key_value \u001b[39m=\u001b[39m cross_attention_outputs[\u001b[39m-\u001b[39m\u001b[39m1\u001b[39m]\n\u001b[1;32m    451\u001b[0m     present_key_value \u001b[39m=\u001b[39m present_key_value \u001b[39m+\u001b[39m cross_attn_present_key_value\n\u001b[0;32m--> 453\u001b[0m layer_output \u001b[39m=\u001b[39m apply_chunking_to_forward(\n\u001b[1;32m    454\u001b[0m     \u001b[39mself\u001b[39;49m\u001b[39m.\u001b[39;49mfeed_forward_chunk, \u001b[39mself\u001b[39;49m\u001b[39m.\u001b[39;49mchunk_size_feed_forward, \u001b[39mself\u001b[39;49m\u001b[39m.\u001b[39;49mseq_len_dim, attention_output\n\u001b[1;32m    455\u001b[0m )\n\u001b[1;32m    456\u001b[0m outputs \u001b[39m=\u001b[39m (layer_output,) \u001b[39m+\u001b[39m outputs\n\u001b[1;32m    458\u001b[0m \u001b[39m# if decoder, return the attn key/values as the last output\u001b[39;00m\n",
      "File \u001b[0;32m~/miniconda3/lib/python3.10/site-packages/transformers/pytorch_utils.py:237\u001b[0m, in \u001b[0;36mapply_chunking_to_forward\u001b[0;34m(forward_fn, chunk_size, chunk_dim, *input_tensors)\u001b[0m\n\u001b[1;32m    234\u001b[0m     \u001b[39m# concatenate output at same dimension\u001b[39;00m\n\u001b[1;32m    235\u001b[0m     \u001b[39mreturn\u001b[39;00m torch\u001b[39m.\u001b[39mcat(output_chunks, dim\u001b[39m=\u001b[39mchunk_dim)\n\u001b[0;32m--> 237\u001b[0m \u001b[39mreturn\u001b[39;00m forward_fn(\u001b[39m*\u001b[39;49minput_tensors)\n",
      "File \u001b[0;32m~/miniconda3/lib/python3.10/site-packages/transformers/models/roberta/modeling_roberta.py:465\u001b[0m, in \u001b[0;36mRobertaLayer.feed_forward_chunk\u001b[0;34m(self, attention_output)\u001b[0m\n\u001b[1;32m    464\u001b[0m \u001b[39mdef\u001b[39;00m \u001b[39mfeed_forward_chunk\u001b[39m(\u001b[39mself\u001b[39m, attention_output):\n\u001b[0;32m--> 465\u001b[0m     intermediate_output \u001b[39m=\u001b[39m \u001b[39mself\u001b[39;49m\u001b[39m.\u001b[39;49mintermediate(attention_output)\n\u001b[1;32m    466\u001b[0m     layer_output \u001b[39m=\u001b[39m \u001b[39mself\u001b[39m\u001b[39m.\u001b[39moutput(intermediate_output, attention_output)\n\u001b[1;32m    467\u001b[0m     \u001b[39mreturn\u001b[39;00m layer_output\n",
      "File \u001b[0;32m~/miniconda3/lib/python3.10/site-packages/torch/nn/modules/module.py:1130\u001b[0m, in \u001b[0;36mModule._call_impl\u001b[0;34m(self, *input, **kwargs)\u001b[0m\n\u001b[1;32m   1126\u001b[0m \u001b[39m# If we don't have any hooks, we want to skip the rest of the logic in\u001b[39;00m\n\u001b[1;32m   1127\u001b[0m \u001b[39m# this function, and just call forward.\u001b[39;00m\n\u001b[1;32m   1128\u001b[0m \u001b[39mif\u001b[39;00m \u001b[39mnot\u001b[39;00m (\u001b[39mself\u001b[39m\u001b[39m.\u001b[39m_backward_hooks \u001b[39mor\u001b[39;00m \u001b[39mself\u001b[39m\u001b[39m.\u001b[39m_forward_hooks \u001b[39mor\u001b[39;00m \u001b[39mself\u001b[39m\u001b[39m.\u001b[39m_forward_pre_hooks \u001b[39mor\u001b[39;00m _global_backward_hooks\n\u001b[1;32m   1129\u001b[0m         \u001b[39mor\u001b[39;00m _global_forward_hooks \u001b[39mor\u001b[39;00m _global_forward_pre_hooks):\n\u001b[0;32m-> 1130\u001b[0m     \u001b[39mreturn\u001b[39;00m forward_call(\u001b[39m*\u001b[39;49m\u001b[39minput\u001b[39;49m, \u001b[39m*\u001b[39;49m\u001b[39m*\u001b[39;49mkwargs)\n\u001b[1;32m   1131\u001b[0m \u001b[39m# Do not call functions when jit is used\u001b[39;00m\n\u001b[1;32m   1132\u001b[0m full_backward_hooks, non_full_backward_hooks \u001b[39m=\u001b[39m [], []\n",
      "File \u001b[0;32m~/miniconda3/lib/python3.10/site-packages/transformers/models/roberta/modeling_roberta.py:364\u001b[0m, in \u001b[0;36mRobertaIntermediate.forward\u001b[0;34m(self, hidden_states)\u001b[0m\n\u001b[1;32m    362\u001b[0m \u001b[39mdef\u001b[39;00m \u001b[39mforward\u001b[39m(\u001b[39mself\u001b[39m, hidden_states: torch\u001b[39m.\u001b[39mTensor) \u001b[39m-\u001b[39m\u001b[39m>\u001b[39m torch\u001b[39m.\u001b[39mTensor:\n\u001b[1;32m    363\u001b[0m     hidden_states \u001b[39m=\u001b[39m \u001b[39mself\u001b[39m\u001b[39m.\u001b[39mdense(hidden_states)\n\u001b[0;32m--> 364\u001b[0m     hidden_states \u001b[39m=\u001b[39m \u001b[39mself\u001b[39;49m\u001b[39m.\u001b[39;49mintermediate_act_fn(hidden_states)\n\u001b[1;32m    365\u001b[0m     \u001b[39mreturn\u001b[39;00m hidden_states\n",
      "File \u001b[0;32m~/miniconda3/lib/python3.10/site-packages/torch/nn/modules/module.py:1130\u001b[0m, in \u001b[0;36mModule._call_impl\u001b[0;34m(self, *input, **kwargs)\u001b[0m\n\u001b[1;32m   1126\u001b[0m \u001b[39m# If we don't have any hooks, we want to skip the rest of the logic in\u001b[39;00m\n\u001b[1;32m   1127\u001b[0m \u001b[39m# this function, and just call forward.\u001b[39;00m\n\u001b[1;32m   1128\u001b[0m \u001b[39mif\u001b[39;00m \u001b[39mnot\u001b[39;00m (\u001b[39mself\u001b[39m\u001b[39m.\u001b[39m_backward_hooks \u001b[39mor\u001b[39;00m \u001b[39mself\u001b[39m\u001b[39m.\u001b[39m_forward_hooks \u001b[39mor\u001b[39;00m \u001b[39mself\u001b[39m\u001b[39m.\u001b[39m_forward_pre_hooks \u001b[39mor\u001b[39;00m _global_backward_hooks\n\u001b[1;32m   1129\u001b[0m         \u001b[39mor\u001b[39;00m _global_forward_hooks \u001b[39mor\u001b[39;00m _global_forward_pre_hooks):\n\u001b[0;32m-> 1130\u001b[0m     \u001b[39mreturn\u001b[39;00m forward_call(\u001b[39m*\u001b[39;49m\u001b[39minput\u001b[39;49m, \u001b[39m*\u001b[39;49m\u001b[39m*\u001b[39;49mkwargs)\n\u001b[1;32m   1131\u001b[0m \u001b[39m# Do not call functions when jit is used\u001b[39;00m\n\u001b[1;32m   1132\u001b[0m full_backward_hooks, non_full_backward_hooks \u001b[39m=\u001b[39m [], []\n",
      "File \u001b[0;32m~/miniconda3/lib/python3.10/site-packages/transformers/activations.py:78\u001b[0m, in \u001b[0;36mGELUActivation.forward\u001b[0;34m(self, input)\u001b[0m\n\u001b[1;32m     77\u001b[0m \u001b[39mdef\u001b[39;00m \u001b[39mforward\u001b[39m(\u001b[39mself\u001b[39m, \u001b[39minput\u001b[39m: Tensor) \u001b[39m-\u001b[39m\u001b[39m>\u001b[39m Tensor:\n\u001b[0;32m---> 78\u001b[0m     \u001b[39mreturn\u001b[39;00m \u001b[39mself\u001b[39;49m\u001b[39m.\u001b[39;49mact(\u001b[39minput\u001b[39;49m)\n",
      "\u001b[0;31mKeyboardInterrupt\u001b[0m: "
     ]
    }
   ],
   "source": [
    "# Evaluate best_cutoff on test set\n",
    "test_posthoc_dataset = CustomPostHocDataset('{}/test.json'.format(DATA_FOLDER), MODEL_TYPE, tokenizer, MAX_LENGTH)\n",
    "test_posthoc_dataloader = DataLoader(test_posthoc_dataset, batch_size=BATCH_SIZE, shuffle=False, collate_fn=posthoc_collate_fn)\n",
    "test_posthoc_scores = evaluate_posthoc(test_posthoc_dataloader)\n",
    "\n",
    "# Evaluate the model on the test set\n",
    "yhat = np.array([1 if new - old > best_cutoff else 0 for old, new, _ in test_posthoc_scores])\n",
    "y = np.array([label for _, _, label in test_posthoc_scores])\n",
    "acc = sklearn.metrics.accuracy_score(y, yhat)\n",
    "f1 = sklearn.metrics.f1_score(y, yhat)\n",
    "precision = sklearn.metrics.precision_score(y, yhat)\n",
    "recall = sklearn.metrics.recall_score(y, yhat)\n",
    "confusion = sklearn.metrics.confusion_matrix(y, yhat)\n",
    "\n",
    "print(f\"Test accuracy: {acc}\")\n",
    "print(f\"Test F1: {f1}\")\n",
    "print(f\"Test precision: {precision}\")\n",
    "print(f\"Test recall: {recall}\")\n",
    "print(f\"Test confusion matrix:\")\n",
    "print(confusion)\n",
    "print('Confusion matrix of test set')\n",
    "tn, fp, fn, tp = confusion.ravel()\n",
    "print(f\"false positives: {fp}, false negatives: {fn}\")\n",
    "# Log to wandb\n",
    "if USE_WANDB:\n",
    "    wandb.log({\n",
    "        'posthoc_test_acc': acc,\n",
    "        'posthoc_test_f1': f1,\n",
    "        'posthoc_test_precision': precision,\n",
    "        'posthoc_test_recall': recall,\n",
    "    })\n"
   ]
  },
  {
   "cell_type": "code",
   "execution_count": null,
   "metadata": {},
   "outputs": [
    {
     "name": "stdout",
     "output_type": "stream",
     "text": [
      "Done!\n"
     ]
    }
   ],
   "source": [
    "wandb.finish()\n",
    "print('Done!')"
   ]
  }
 ],
 "metadata": {
  "kernelspec": {
   "display_name": "master-project",
   "language": "python",
   "name": "python3"
  },
  "language_info": {
   "codemirror_mode": {
    "name": "ipython",
    "version": 3
   },
   "file_extension": ".py",
   "mimetype": "text/x-python",
   "name": "python",
   "nbconvert_exporter": "python",
   "pygments_lexer": "ipython3",
   "version": "3.10.8"
  },
  "vscode": {
   "interpreter": {
    "hash": "a039f0b1bebafebeb17a7df39f3cb9e08c871cbba42b919bd83805750af3b3a6"
   }
  }
 },
 "nbformat": 4,
 "nbformat_minor": 4
}
